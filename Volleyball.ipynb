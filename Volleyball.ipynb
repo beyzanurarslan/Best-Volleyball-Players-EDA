{
 "cells": [
  {
   "cell_type": "markdown",
   "metadata": {},
   "source": [
    "# Best Women Volleyball Players EDA & Visualization"
   ]
  },
  {
   "cell_type": "code",
   "execution_count": 1,
   "metadata": {},
   "outputs": [],
   "source": [
    "import requests\n",
    "import pandas as pd\n",
    "import numpy as np\n",
    "from bs4 import BeautifulSoup"
   ]
  },
  {
   "cell_type": "markdown",
   "metadata": {},
   "source": [
    "### Web Scraping"
   ]
  },
  {
   "cell_type": "code",
   "execution_count": 723,
   "metadata": {},
   "outputs": [],
   "source": [
    "url=\"https://women.volleybox.net/players/ranking/2019\"\n",
    "\n",
    "html_content = requests.get(url).text\n",
    "# Parse the html content\n",
    "soup = BeautifulSoup(html_content, \"html.parser\")"
   ]
  },
  {
   "cell_type": "code",
   "execution_count": 724,
   "metadata": {},
   "outputs": [],
   "source": [
    "links =soup.find_all('a')\n",
    "a=[]\n",
    "b=[]\n",
    "for link in links:\n",
    "    #print(link.text, link.get(\"href\"))\n",
    "    a.append(link.get(\"href\"))\n",
    "    b.append(link.text)\n",
    "a;"
   ]
  },
  {
   "cell_type": "code",
   "execution_count": 726,
   "metadata": {},
   "outputs": [],
   "source": [
    "players= a[64:124]\n",
    "pl = list(dict.fromkeys(players))\n",
    "pl;"
   ]
  },
  {
   "cell_type": "code",
   "execution_count": 738,
   "metadata": {},
   "outputs": [],
   "source": [
    "names1 = b[64:124]\n",
    "name = np.array(names1)\n",
    "names = np.delete(name, np.argwhere(name == '\\n '))\n",
    "names;"
   ]
  },
  {
   "cell_type": "code",
   "execution_count": 728,
   "metadata": {},
   "outputs": [
    {
     "data": {
      "text/plain": [
       "30"
      ]
     },
     "execution_count": 728,
     "metadata": {},
     "output_type": "execute_result"
    }
   ],
   "source": [
    "len(pl)"
   ]
  },
  {
   "cell_type": "code",
   "execution_count": 729,
   "metadata": {},
   "outputs": [
    {
     "data": {
      "text/plain": [
       "12"
      ]
     },
     "execution_count": 729,
     "metadata": {},
     "output_type": "execute_result"
    }
   ],
   "source": [
    "cols = ['Ranking','Ranking in 2020','Nationality','Position','Birthdate','Height','Weight','Spike','Block','Dominant hand',\n",
    "'Views','Added by']\n",
    "len(cols)"
   ]
  },
  {
   "cell_type": "code",
   "execution_count": 730,
   "metadata": {},
   "outputs": [],
   "source": [
    "result = pd.DataFrame(np.zeros((30, 12)), columns= cols)\n",
    "result;"
   ]
  },
  {
   "cell_type": "code",
   "execution_count": 731,
   "metadata": {},
   "outputs": [],
   "source": [
    "info_all=[]\n",
    "for url in pl:\n",
    "    html_content = requests.get(url).text\n",
    "    soup = BeautifulSoup(html_content, \"lxml\")\n",
    "\n",
    "    spans= soup.find_all( \"span\",{\"class\" : \"info-data\"}, href=False)\n",
    "    for span in spans:\n",
    "        info_all.append(span.get_text())"
   ]
  },
  {
   "cell_type": "code",
   "execution_count": 732,
   "metadata": {},
   "outputs": [
    {
     "data": {
      "text/plain": [
       "340"
      ]
     },
     "execution_count": 732,
     "metadata": {},
     "output_type": "execute_result"
    }
   ],
   "source": [
    "len(info_all)"
   ]
  },
  {
   "cell_type": "markdown",
   "metadata": {},
   "source": [
    "### Editing some values"
   ]
  },
  {
   "cell_type": "code",
   "execution_count": 733,
   "metadata": {},
   "outputs": [],
   "source": [
    "new_info = ['3','23','China','Outside Hitter','1994-11-29','198cm','78kg','327cm','305cm','Right','14032','Volleybox',\n",
    " '176','19', 'Brazil', 'Setter', '1989-03-03', '178cm', '68kg', '292cm', '285cm', \"null\", '5053', 'mvs',\n",
    " '31', '13', 'Brazil', 'Outside Hitter', '1994-05-19', '180cm', '65kg', '305cm', '289cm', 'Right', '19472', 'Volleybox',\n",
    " '28', '3', 'Serbia, Bosnia and Herzegovina', 'Opposite', '1997-03-08', '194cm', '84kg', '329cm', '310cm', 'Left', '1007631', 'Volleybox',\n",
    " '134', '2', 'Italy', 'Opposite', '1998-12-18', '190cm', '70kg', '336cm', '315cm', \"Right\", '9712', 'soidensir3',\n",
    " '23', '25', 'Dominican Republic', 'Outside Hitter', '1987-05-13', '188cm', '68kg', '315cm', '310cm', \"Right\", '7510', 'Volleybox',\n",
    " '180', \"null\", 'USA', 'Outside Hitter', '1992-06-25', '188cm', '75kg', '306cm', '300cm', \"Right\", '17779', 'Volleybox', \n",
    " '1601', '1668', 'Japan', 'Outside Hitter', '2000-05-14', '173cm', '65kg', '300cm', \"290cm\", \"Right\", '4526', 'sitenoise',\n",
    " '621', '14', 'USA', 'Opposite', '1993-12-25', '191cm', '77kg', '316cm', '312cm', 'Left', '25397', 'marciovolley',\n",
    " '83', \"null\", 'Dominican Republic', 'Outside Hitter', '1996-09-11', '201cm', '83kg', '330cm', '320cm', \"Right\", '7819', 'soidensir3',\n",
    " '405', '4', 'Turkey', 'Libero', '1991-04-23', '168cm', '55kg', '250cm', '245cm', \"null\", '3058', 'airton13',\n",
    " '511', '75', 'China', 'Outside Hitter', '2000-02-19', '192cm', '78kg', '312cm', '300cm', \"Right\", '2084', 'airton13', \n",
    " '562', \"null\", 'Cuba', 'Opposite', '1999-10-16', '194cm', '76kg', '320cm', '310cm', 'Right', '11418', 'Volleybox',\n",
    " '187','19', 'Brazil', 'Libero', '1985-03-01', '168cm', '60kg', '268cm', '257cm', \"null\", '4403', 'Volleybox',\n",
    " '229', '357', 'Brazil', 'Middle-blocker', '1991-07-26', '192cm', '81kg', '310cm', '297cm', \"Right\", '3508', 'Volleybox',\n",
    " '718', '1081', 'USA', 'Opposite', '1993-02-02', '196cm', '75kg', '315cm', '305cm', 'Left', '7064', 'soidensir3', \n",
    " '677', \"null\", 'Dominican Republic', 'Middle-blocker', '1997-12-03', '190cm', '68kg', '305cm','280cm',\"Right\", '3904', 'sait864',\n",
    " '1211', '257', 'Brazil','Middle-blocker', '1996-11-24', '185cm','62kg', '293cm', '282cm', \"Right\", '2829', 'bbbsma',\n",
    " '329', '1081', 'USA', 'Middle-blocker', '1992-08-04', '191cm', '83kg', '306cm', '295cm', \"Right\", '4411', 'soidensir3',\n",
    " '119', '10', 'Russia', 'Middle-blocker', '1991-10-04', '196cm', '78kg', '315cm', '305cm', \"Right\", '23038', 'Volleybox',\n",
    " '48', '19', 'Brazil','Middle-blocker','1981-07-27', '192cm', '78kg', '315cm', '299cm', \"Right\", '3442', 'Volleybox',   \n",
    " '51', '6', 'Brazil', 'Middle-blocker', '1991-04-08', '183cm','73kg', '316cm', '309cm', \"Right\", '4274', 'Volleybox',\n",
    " '34', '235', 'Russia, Ukraine', 'Opposite', '1989-06-01', '196cm' ,'75kg','321cm', '310cm', \"Right\", '14442', 'Volleybox', \n",
    " '58', '273','Serbia', 'Setter', '1984-08-06', '183cm', '68kg', '300cm', '293cm', \"Right\", '15711', 'Volleybox',\n",
    " '459', '24', 'Turkey', 'Outside Hitter', '2000-01-17', '194cm', '72kg', '307cm', '305cm', \"Right\", '5374', 'marciovolley',\n",
    " '57', \"null\", 'Turkey', 'Middle-blocker', '1987-06-22', '188cm', '74kg','315cm', '302cm', \"Right\", '6263', 'przemek16', \n",
    " '598', '1837', 'Mexico','Outside Hitter','1994-11-22', '188cm', '58kg', '302cm', '283cm', \"Right\", '13570', 'marciovolley',\n",
    " '389', '219', 'USA', 'Setter', '1992-11-10', '177cm', '68kg', '289cm', '283cm', \"Right\", '4516', 'przemek16',\n",
    " '981', '75', 'China', 'Middle-blocker', '1997-07-14', '195cm', '75kg', '312cm', '300cm', \"Right\", '1527', 'marciovolley',\n",
    " '32', '650', 'USA', 'Outside Hitter', '1986-10-16', '186cm', '74kg', '302cm', '295cm', \"Right\", '5713', 'Volleybox']"
   ]
  },
  {
   "cell_type": "code",
   "execution_count": 734,
   "metadata": {},
   "outputs": [],
   "source": [
    "for i in range(30):\n",
    "    result.loc[i] = new_info[12*i: 12*i+12]\n",
    "result;"
   ]
  },
  {
   "cell_type": "code",
   "execution_count": 737,
   "metadata": {},
   "outputs": [
    {
     "data": {
      "text/plain": [
       "(30, 12)"
      ]
     },
     "execution_count": 737,
     "metadata": {},
     "output_type": "execute_result"
    }
   ],
   "source": [
    "result.shape"
   ]
  },
  {
   "cell_type": "code",
   "execution_count": 739,
   "metadata": {},
   "outputs": [
    {
     "data": {
      "text/html": [
       "<div>\n",
       "<style scoped>\n",
       "    .dataframe tbody tr th:only-of-type {\n",
       "        vertical-align: middle;\n",
       "    }\n",
       "\n",
       "    .dataframe tbody tr th {\n",
       "        vertical-align: top;\n",
       "    }\n",
       "\n",
       "    .dataframe thead th {\n",
       "        text-align: right;\n",
       "    }\n",
       "</style>\n",
       "<table border=\"1\" class=\"dataframe\">\n",
       "  <thead>\n",
       "    <tr style=\"text-align: right;\">\n",
       "      <th></th>\n",
       "      <th>Ranking</th>\n",
       "      <th>Ranking in 2020</th>\n",
       "      <th>Nationality</th>\n",
       "      <th>Position</th>\n",
       "      <th>Birthdate</th>\n",
       "      <th>Height</th>\n",
       "      <th>Weight</th>\n",
       "      <th>Spike</th>\n",
       "      <th>Block</th>\n",
       "      <th>Dominant hand</th>\n",
       "      <th>Views</th>\n",
       "      <th>Added by</th>\n",
       "      <th>Name</th>\n",
       "    </tr>\n",
       "  </thead>\n",
       "  <tbody>\n",
       "    <tr>\n",
       "      <td>0</td>\n",
       "      <td>3</td>\n",
       "      <td>23</td>\n",
       "      <td>China</td>\n",
       "      <td>Outside Hitter</td>\n",
       "      <td>1994-11-29</td>\n",
       "      <td>198cm</td>\n",
       "      <td>78kg</td>\n",
       "      <td>327cm</td>\n",
       "      <td>305cm</td>\n",
       "      <td>Right</td>\n",
       "      <td>14032</td>\n",
       "      <td>Volleybox</td>\n",
       "      <td>Ting Zhu</td>\n",
       "    </tr>\n",
       "    <tr>\n",
       "      <td>1</td>\n",
       "      <td>176</td>\n",
       "      <td>19</td>\n",
       "      <td>Brazil</td>\n",
       "      <td>Setter</td>\n",
       "      <td>1989-03-03</td>\n",
       "      <td>178cm</td>\n",
       "      <td>68kg</td>\n",
       "      <td>292cm</td>\n",
       "      <td>285cm</td>\n",
       "      <td>null</td>\n",
       "      <td>5053</td>\n",
       "      <td>mvs</td>\n",
       "      <td>Macris Carneiro</td>\n",
       "    </tr>\n",
       "    <tr>\n",
       "      <td>2</td>\n",
       "      <td>31</td>\n",
       "      <td>13</td>\n",
       "      <td>Brazil</td>\n",
       "      <td>Outside Hitter</td>\n",
       "      <td>1994-05-19</td>\n",
       "      <td>180cm</td>\n",
       "      <td>65kg</td>\n",
       "      <td>305cm</td>\n",
       "      <td>289cm</td>\n",
       "      <td>Right</td>\n",
       "      <td>19472</td>\n",
       "      <td>Volleybox</td>\n",
       "      <td>Gabriela Guimarães</td>\n",
       "    </tr>\n",
       "    <tr>\n",
       "      <td>3</td>\n",
       "      <td>28</td>\n",
       "      <td>3</td>\n",
       "      <td>Serbia, Bosnia and Herzegovina</td>\n",
       "      <td>Opposite</td>\n",
       "      <td>1997-03-08</td>\n",
       "      <td>194cm</td>\n",
       "      <td>84kg</td>\n",
       "      <td>329cm</td>\n",
       "      <td>310cm</td>\n",
       "      <td>Left</td>\n",
       "      <td>1007631</td>\n",
       "      <td>Volleybox</td>\n",
       "      <td>Tijana Bošković</td>\n",
       "    </tr>\n",
       "    <tr>\n",
       "      <td>4</td>\n",
       "      <td>134</td>\n",
       "      <td>2</td>\n",
       "      <td>Italy</td>\n",
       "      <td>Opposite</td>\n",
       "      <td>1998-12-18</td>\n",
       "      <td>190cm</td>\n",
       "      <td>70kg</td>\n",
       "      <td>336cm</td>\n",
       "      <td>315cm</td>\n",
       "      <td>Right</td>\n",
       "      <td>9712</td>\n",
       "      <td>soidensir3</td>\n",
       "      <td>Paola Egonu</td>\n",
       "    </tr>\n",
       "  </tbody>\n",
       "</table>\n",
       "</div>"
      ],
      "text/plain": [
       "  Ranking Ranking in 2020                     Nationality        Position  \\\n",
       "0       3              23                           China  Outside Hitter   \n",
       "1     176              19                          Brazil          Setter   \n",
       "2      31              13                          Brazil  Outside Hitter   \n",
       "3      28               3  Serbia, Bosnia and Herzegovina        Opposite   \n",
       "4     134               2                           Italy        Opposite   \n",
       "\n",
       "    Birthdate Height Weight  Spike  Block Dominant hand    Views    Added by  \\\n",
       "0  1994-11-29  198cm   78kg  327cm  305cm         Right    14032   Volleybox   \n",
       "1  1989-03-03  178cm   68kg  292cm  285cm          null     5053         mvs   \n",
       "2  1994-05-19  180cm   65kg  305cm  289cm         Right    19472   Volleybox   \n",
       "3  1997-03-08  194cm   84kg  329cm  310cm          Left  1007631   Volleybox   \n",
       "4  1998-12-18  190cm   70kg  336cm  315cm         Right     9712  soidensir3   \n",
       "\n",
       "                 Name  \n",
       "0            Ting Zhu  \n",
       "1     Macris Carneiro  \n",
       "2  Gabriela Guimarães  \n",
       "3     Tijana Bošković  \n",
       "4         Paola Egonu  "
      ]
     },
     "execution_count": 739,
     "metadata": {},
     "output_type": "execute_result"
    }
   ],
   "source": [
    "result[\"Name\"]= names\n",
    "result.head()"
   ]
  },
  {
   "cell_type": "code",
   "execution_count": 740,
   "metadata": {},
   "outputs": [],
   "source": [
    "cols = result.columns.tolist()\n",
    "cols = ['Name','Ranking',\n",
    " 'Ranking in 2020',\n",
    " 'Nationality',\n",
    " 'Position',\n",
    " 'Birthdate',\n",
    " 'Height',\n",
    " 'Weight',\n",
    " 'Spike',\n",
    " 'Block',\n",
    " 'Dominant hand',\n",
    "  \"Views\", \"Added by\"\n",
    " ]\n",
    "result = result[cols]\n",
    "result;"
   ]
  },
  {
   "cell_type": "markdown",
   "metadata": {},
   "source": [
    "# EDA"
   ]
  },
  {
   "cell_type": "code",
   "execution_count": 741,
   "metadata": {},
   "outputs": [],
   "source": [
    "result[\"Birthdate\"];"
   ]
  },
  {
   "cell_type": "code",
   "execution_count": 742,
   "metadata": {},
   "outputs": [],
   "source": [
    "from datetime import datetime\n",
    "date_of_birth = []\n",
    "for i in range(30):\n",
    "    date_of_birth.append(datetime.strptime(result[\"Birthdate\"][i], \"%Y-%m-%d\"))\n",
    "date_of_birth;"
   ]
  },
  {
   "cell_type": "code",
   "execution_count": 743,
   "metadata": {},
   "outputs": [
    {
     "data": {
      "text/html": [
       "<div>\n",
       "<style scoped>\n",
       "    .dataframe tbody tr th:only-of-type {\n",
       "        vertical-align: middle;\n",
       "    }\n",
       "\n",
       "    .dataframe tbody tr th {\n",
       "        vertical-align: top;\n",
       "    }\n",
       "\n",
       "    .dataframe thead th {\n",
       "        text-align: right;\n",
       "    }\n",
       "</style>\n",
       "<table border=\"1\" class=\"dataframe\">\n",
       "  <thead>\n",
       "    <tr style=\"text-align: right;\">\n",
       "      <th></th>\n",
       "      <th>Name</th>\n",
       "      <th>Ranking</th>\n",
       "      <th>Ranking in 2020</th>\n",
       "      <th>Nationality</th>\n",
       "      <th>Position</th>\n",
       "      <th>Birthdate</th>\n",
       "      <th>Height</th>\n",
       "      <th>Weight</th>\n",
       "      <th>Spike</th>\n",
       "      <th>Block</th>\n",
       "      <th>Dominant hand</th>\n",
       "      <th>Views</th>\n",
       "      <th>Added by</th>\n",
       "    </tr>\n",
       "  </thead>\n",
       "  <tbody>\n",
       "    <tr>\n",
       "      <td>0</td>\n",
       "      <td>Ting Zhu</td>\n",
       "      <td>3</td>\n",
       "      <td>23</td>\n",
       "      <td>China</td>\n",
       "      <td>Outside Hitter</td>\n",
       "      <td>1994-11-29</td>\n",
       "      <td>198cm</td>\n",
       "      <td>78kg</td>\n",
       "      <td>327cm</td>\n",
       "      <td>305cm</td>\n",
       "      <td>Right</td>\n",
       "      <td>14032</td>\n",
       "      <td>Volleybox</td>\n",
       "    </tr>\n",
       "    <tr>\n",
       "      <td>1</td>\n",
       "      <td>Macris Carneiro</td>\n",
       "      <td>176</td>\n",
       "      <td>19</td>\n",
       "      <td>Brazil</td>\n",
       "      <td>Setter</td>\n",
       "      <td>1989-03-03</td>\n",
       "      <td>178cm</td>\n",
       "      <td>68kg</td>\n",
       "      <td>292cm</td>\n",
       "      <td>285cm</td>\n",
       "      <td>null</td>\n",
       "      <td>5053</td>\n",
       "      <td>mvs</td>\n",
       "    </tr>\n",
       "    <tr>\n",
       "      <td>2</td>\n",
       "      <td>Gabriela Guimarães</td>\n",
       "      <td>31</td>\n",
       "      <td>13</td>\n",
       "      <td>Brazil</td>\n",
       "      <td>Outside Hitter</td>\n",
       "      <td>1994-05-19</td>\n",
       "      <td>180cm</td>\n",
       "      <td>65kg</td>\n",
       "      <td>305cm</td>\n",
       "      <td>289cm</td>\n",
       "      <td>Right</td>\n",
       "      <td>19472</td>\n",
       "      <td>Volleybox</td>\n",
       "    </tr>\n",
       "    <tr>\n",
       "      <td>3</td>\n",
       "      <td>Tijana Bošković</td>\n",
       "      <td>28</td>\n",
       "      <td>3</td>\n",
       "      <td>Serbia, Bosnia and Herzegovina</td>\n",
       "      <td>Opposite</td>\n",
       "      <td>1997-03-08</td>\n",
       "      <td>194cm</td>\n",
       "      <td>84kg</td>\n",
       "      <td>329cm</td>\n",
       "      <td>310cm</td>\n",
       "      <td>Left</td>\n",
       "      <td>1007631</td>\n",
       "      <td>Volleybox</td>\n",
       "    </tr>\n",
       "    <tr>\n",
       "      <td>4</td>\n",
       "      <td>Paola Egonu</td>\n",
       "      <td>134</td>\n",
       "      <td>2</td>\n",
       "      <td>Italy</td>\n",
       "      <td>Opposite</td>\n",
       "      <td>1998-12-18</td>\n",
       "      <td>190cm</td>\n",
       "      <td>70kg</td>\n",
       "      <td>336cm</td>\n",
       "      <td>315cm</td>\n",
       "      <td>Right</td>\n",
       "      <td>9712</td>\n",
       "      <td>soidensir3</td>\n",
       "    </tr>\n",
       "  </tbody>\n",
       "</table>\n",
       "</div>"
      ],
      "text/plain": [
       "                 Name Ranking Ranking in 2020                     Nationality  \\\n",
       "0            Ting Zhu       3              23                           China   \n",
       "1     Macris Carneiro     176              19                          Brazil   \n",
       "2  Gabriela Guimarães      31              13                          Brazil   \n",
       "3     Tijana Bošković      28               3  Serbia, Bosnia and Herzegovina   \n",
       "4         Paola Egonu     134               2                           Italy   \n",
       "\n",
       "         Position  Birthdate Height Weight  Spike  Block Dominant hand  \\\n",
       "0  Outside Hitter 1994-11-29  198cm   78kg  327cm  305cm         Right   \n",
       "1          Setter 1989-03-03  178cm   68kg  292cm  285cm          null   \n",
       "2  Outside Hitter 1994-05-19  180cm   65kg  305cm  289cm         Right   \n",
       "3        Opposite 1997-03-08  194cm   84kg  329cm  310cm          Left   \n",
       "4        Opposite 1998-12-18  190cm   70kg  336cm  315cm         Right   \n",
       "\n",
       "     Views    Added by  \n",
       "0    14032   Volleybox  \n",
       "1     5053         mvs  \n",
       "2    19472   Volleybox  \n",
       "3  1007631   Volleybox  \n",
       "4     9712  soidensir3  "
      ]
     },
     "execution_count": 743,
     "metadata": {},
     "output_type": "execute_result"
    }
   ],
   "source": [
    "result[\"Birthdate\"] = date_of_birth\n",
    "result.head()"
   ]
  },
  {
   "cell_type": "code",
   "execution_count": 744,
   "metadata": {},
   "outputs": [],
   "source": [
    "from datetime import date \n",
    "today = date.today()\n",
    "\n",
    "ages=[]\n",
    "for i in range(30):\n",
    "    ages.append(today.year - date_of_birth[i].year - ((today.month, today.day) < (date_of_birth[i].month, date_of_birth[i].day)))\n",
    "\n",
    "ages;"
   ]
  },
  {
   "cell_type": "code",
   "execution_count": 745,
   "metadata": {},
   "outputs": [
    {
     "data": {
      "text/html": [
       "<div>\n",
       "<style scoped>\n",
       "    .dataframe tbody tr th:only-of-type {\n",
       "        vertical-align: middle;\n",
       "    }\n",
       "\n",
       "    .dataframe tbody tr th {\n",
       "        vertical-align: top;\n",
       "    }\n",
       "\n",
       "    .dataframe thead th {\n",
       "        text-align: right;\n",
       "    }\n",
       "</style>\n",
       "<table border=\"1\" class=\"dataframe\">\n",
       "  <thead>\n",
       "    <tr style=\"text-align: right;\">\n",
       "      <th></th>\n",
       "      <th>Name</th>\n",
       "      <th>Ranking</th>\n",
       "      <th>Ranking in 2020</th>\n",
       "      <th>Nationality</th>\n",
       "      <th>Position</th>\n",
       "      <th>Birthdate</th>\n",
       "      <th>Height</th>\n",
       "      <th>Weight</th>\n",
       "      <th>Spike</th>\n",
       "      <th>Block</th>\n",
       "      <th>Dominant hand</th>\n",
       "      <th>Views</th>\n",
       "      <th>Added by</th>\n",
       "      <th>Age</th>\n",
       "    </tr>\n",
       "  </thead>\n",
       "  <tbody>\n",
       "    <tr>\n",
       "      <td>0</td>\n",
       "      <td>Ting Zhu</td>\n",
       "      <td>3</td>\n",
       "      <td>23</td>\n",
       "      <td>China</td>\n",
       "      <td>Outside Hitter</td>\n",
       "      <td>1994-11-29</td>\n",
       "      <td>198cm</td>\n",
       "      <td>78kg</td>\n",
       "      <td>327cm</td>\n",
       "      <td>305cm</td>\n",
       "      <td>Right</td>\n",
       "      <td>14032</td>\n",
       "      <td>Volleybox</td>\n",
       "      <td>25</td>\n",
       "    </tr>\n",
       "    <tr>\n",
       "      <td>1</td>\n",
       "      <td>Macris Carneiro</td>\n",
       "      <td>176</td>\n",
       "      <td>19</td>\n",
       "      <td>Brazil</td>\n",
       "      <td>Setter</td>\n",
       "      <td>1989-03-03</td>\n",
       "      <td>178cm</td>\n",
       "      <td>68kg</td>\n",
       "      <td>292cm</td>\n",
       "      <td>285cm</td>\n",
       "      <td>null</td>\n",
       "      <td>5053</td>\n",
       "      <td>mvs</td>\n",
       "      <td>31</td>\n",
       "    </tr>\n",
       "    <tr>\n",
       "      <td>2</td>\n",
       "      <td>Gabriela Guimarães</td>\n",
       "      <td>31</td>\n",
       "      <td>13</td>\n",
       "      <td>Brazil</td>\n",
       "      <td>Outside Hitter</td>\n",
       "      <td>1994-05-19</td>\n",
       "      <td>180cm</td>\n",
       "      <td>65kg</td>\n",
       "      <td>305cm</td>\n",
       "      <td>289cm</td>\n",
       "      <td>Right</td>\n",
       "      <td>19472</td>\n",
       "      <td>Volleybox</td>\n",
       "      <td>25</td>\n",
       "    </tr>\n",
       "    <tr>\n",
       "      <td>3</td>\n",
       "      <td>Tijana Bošković</td>\n",
       "      <td>28</td>\n",
       "      <td>3</td>\n",
       "      <td>Serbia, Bosnia and Herzegovina</td>\n",
       "      <td>Opposite</td>\n",
       "      <td>1997-03-08</td>\n",
       "      <td>194cm</td>\n",
       "      <td>84kg</td>\n",
       "      <td>329cm</td>\n",
       "      <td>310cm</td>\n",
       "      <td>Left</td>\n",
       "      <td>1007631</td>\n",
       "      <td>Volleybox</td>\n",
       "      <td>23</td>\n",
       "    </tr>\n",
       "    <tr>\n",
       "      <td>4</td>\n",
       "      <td>Paola Egonu</td>\n",
       "      <td>134</td>\n",
       "      <td>2</td>\n",
       "      <td>Italy</td>\n",
       "      <td>Opposite</td>\n",
       "      <td>1998-12-18</td>\n",
       "      <td>190cm</td>\n",
       "      <td>70kg</td>\n",
       "      <td>336cm</td>\n",
       "      <td>315cm</td>\n",
       "      <td>Right</td>\n",
       "      <td>9712</td>\n",
       "      <td>soidensir3</td>\n",
       "      <td>21</td>\n",
       "    </tr>\n",
       "  </tbody>\n",
       "</table>\n",
       "</div>"
      ],
      "text/plain": [
       "                 Name Ranking Ranking in 2020                     Nationality  \\\n",
       "0            Ting Zhu       3              23                           China   \n",
       "1     Macris Carneiro     176              19                          Brazil   \n",
       "2  Gabriela Guimarães      31              13                          Brazil   \n",
       "3     Tijana Bošković      28               3  Serbia, Bosnia and Herzegovina   \n",
       "4         Paola Egonu     134               2                           Italy   \n",
       "\n",
       "         Position  Birthdate Height Weight  Spike  Block Dominant hand  \\\n",
       "0  Outside Hitter 1994-11-29  198cm   78kg  327cm  305cm         Right   \n",
       "1          Setter 1989-03-03  178cm   68kg  292cm  285cm          null   \n",
       "2  Outside Hitter 1994-05-19  180cm   65kg  305cm  289cm         Right   \n",
       "3        Opposite 1997-03-08  194cm   84kg  329cm  310cm          Left   \n",
       "4        Opposite 1998-12-18  190cm   70kg  336cm  315cm         Right   \n",
       "\n",
       "     Views    Added by  Age  \n",
       "0    14032   Volleybox   25  \n",
       "1     5053         mvs   31  \n",
       "2    19472   Volleybox   25  \n",
       "3  1007631   Volleybox   23  \n",
       "4     9712  soidensir3   21  "
      ]
     },
     "execution_count": 745,
     "metadata": {},
     "output_type": "execute_result"
    }
   ],
   "source": [
    "result[\"Age\"]= ages\n",
    "result.head()"
   ]
  },
  {
   "cell_type": "code",
   "execution_count": 746,
   "metadata": {},
   "outputs": [],
   "source": [
    "result = result.replace(to_replace='Serbia, Bosnia and Herzegovina', value='Serbia', regex=True)"
   ]
  },
  {
   "cell_type": "code",
   "execution_count": 747,
   "metadata": {},
   "outputs": [
    {
     "data": {
      "text/plain": [
       "Index(['Name', 'Ranking All', 'Ranking in 2020', 'Nationality', 'Position',\n",
       "       'Birthdate', 'Height', 'Weight', 'Spike', 'Block', 'Dominant hand',\n",
       "       'Views', 'Added by', 'Age'],\n",
       "      dtype='object')"
      ]
     },
     "execution_count": 747,
     "metadata": {},
     "output_type": "execute_result"
    }
   ],
   "source": [
    "result = result.rename(columns= {\"Ranking\": \"Ranking All\"})\n",
    "result.columns"
   ]
  },
  {
   "cell_type": "markdown",
   "metadata": {},
   "source": [
    "## Visualization"
   ]
  },
  {
   "cell_type": "code",
   "execution_count": 92,
   "metadata": {},
   "outputs": [],
   "source": [
    "import seaborn as sns\n",
    "import matplotlib.pyplot as plt"
   ]
  },
  {
   "cell_type": "code",
   "execution_count": 697,
   "metadata": {},
   "outputs": [],
   "source": [
    "result[\"Ranking in 2020\"]= result[\"Ranking in 2020\"].replace(to_replace='null', value=0, regex=True)"
   ]
  },
  {
   "cell_type": "code",
   "execution_count": 698,
   "metadata": {},
   "outputs": [],
   "source": [
    "result[[\"Ranking All\", \"Ranking in 2020\"]]= result[[\"Ranking All\", \"Ranking in 2020\"]].astype(int)"
   ]
  },
  {
   "cell_type": "code",
   "execution_count": 699,
   "metadata": {},
   "outputs": [
    {
     "name": "stdout",
     "output_type": "stream",
     "text": [
      "<class 'pandas.core.frame.DataFrame'>\n",
      "RangeIndex: 30 entries, 0 to 29\n",
      "Data columns (total 14 columns):\n",
      "Name               30 non-null object\n",
      "Ranking All        30 non-null int32\n",
      "Ranking in 2020    30 non-null int32\n",
      "Nationality        30 non-null object\n",
      "Position           30 non-null object\n",
      "Birthdate          30 non-null datetime64[ns]\n",
      "Height             30 non-null object\n",
      "Weight             30 non-null object\n",
      "Spike              30 non-null object\n",
      "Block              30 non-null object\n",
      "Dominant hand      30 non-null object\n",
      "Views              30 non-null object\n",
      "Added by           30 non-null object\n",
      "Age                30 non-null int64\n",
      "dtypes: datetime64[ns](1), int32(2), int64(1), object(10)\n",
      "memory usage: 3.2+ KB\n"
     ]
    }
   ],
   "source": [
    "result.info()"
   ]
  },
  {
   "cell_type": "code",
   "execution_count": 655,
   "metadata": {},
   "outputs": [
    {
     "data": {
      "text/html": [
       "<div>\n",
       "<style scoped>\n",
       "    .dataframe tbody tr th:only-of-type {\n",
       "        vertical-align: middle;\n",
       "    }\n",
       "\n",
       "    .dataframe tbody tr th {\n",
       "        vertical-align: top;\n",
       "    }\n",
       "\n",
       "    .dataframe thead th {\n",
       "        text-align: right;\n",
       "    }\n",
       "</style>\n",
       "<table border=\"1\" class=\"dataframe\">\n",
       "  <thead>\n",
       "    <tr style=\"text-align: right;\">\n",
       "      <th></th>\n",
       "      <th>Name</th>\n",
       "      <th>Ranking All</th>\n",
       "      <th>Ranking in 2020</th>\n",
       "      <th>Nationality</th>\n",
       "      <th>Position</th>\n",
       "      <th>Birthdate</th>\n",
       "      <th>Height</th>\n",
       "      <th>Weight</th>\n",
       "      <th>Spike</th>\n",
       "      <th>Block</th>\n",
       "      <th>Dominant hand</th>\n",
       "      <th>Age</th>\n",
       "    </tr>\n",
       "  </thead>\n",
       "  <tbody>\n",
       "    <tr>\n",
       "      <td>0</td>\n",
       "      <td>Ting Zhu</td>\n",
       "      <td>3</td>\n",
       "      <td>23</td>\n",
       "      <td>China</td>\n",
       "      <td>Outside Hitter</td>\n",
       "      <td>1994-11-29</td>\n",
       "      <td>198cm</td>\n",
       "      <td>78kg</td>\n",
       "      <td>327cm</td>\n",
       "      <td>305cm</td>\n",
       "      <td>Right</td>\n",
       "      <td>25</td>\n",
       "    </tr>\n",
       "    <tr>\n",
       "      <td>1</td>\n",
       "      <td>Macris Carneiro</td>\n",
       "      <td>176</td>\n",
       "      <td>19</td>\n",
       "      <td>Brazil</td>\n",
       "      <td>Setter</td>\n",
       "      <td>1989-03-03</td>\n",
       "      <td>178cm</td>\n",
       "      <td>68kg</td>\n",
       "      <td>292cm</td>\n",
       "      <td>285cm</td>\n",
       "      <td>null</td>\n",
       "      <td>31</td>\n",
       "    </tr>\n",
       "    <tr>\n",
       "      <td>2</td>\n",
       "      <td>Gabriela Guimarães</td>\n",
       "      <td>31</td>\n",
       "      <td>13</td>\n",
       "      <td>Brazil</td>\n",
       "      <td>Outside Hitter</td>\n",
       "      <td>1994-05-19</td>\n",
       "      <td>180cm</td>\n",
       "      <td>65kg</td>\n",
       "      <td>305cm</td>\n",
       "      <td>289cm</td>\n",
       "      <td>Right</td>\n",
       "      <td>25</td>\n",
       "    </tr>\n",
       "    <tr>\n",
       "      <td>3</td>\n",
       "      <td>Tijana Bošković</td>\n",
       "      <td>28</td>\n",
       "      <td>3</td>\n",
       "      <td>Serbia</td>\n",
       "      <td>Opposite</td>\n",
       "      <td>1997-03-08</td>\n",
       "      <td>194cm</td>\n",
       "      <td>84kg</td>\n",
       "      <td>329cm</td>\n",
       "      <td>310cm</td>\n",
       "      <td>Left</td>\n",
       "      <td>23</td>\n",
       "    </tr>\n",
       "    <tr>\n",
       "      <td>4</td>\n",
       "      <td>Paola Egonu</td>\n",
       "      <td>134</td>\n",
       "      <td>2</td>\n",
       "      <td>Italy</td>\n",
       "      <td>Opposite</td>\n",
       "      <td>1998-12-18</td>\n",
       "      <td>190cm</td>\n",
       "      <td>70kg</td>\n",
       "      <td>336cm</td>\n",
       "      <td>315cm</td>\n",
       "      <td>Right</td>\n",
       "      <td>21</td>\n",
       "    </tr>\n",
       "  </tbody>\n",
       "</table>\n",
       "</div>"
      ],
      "text/plain": [
       "                 Name  Ranking All  Ranking in 2020 Nationality  \\\n",
       "0            Ting Zhu            3               23       China   \n",
       "1     Macris Carneiro          176               19      Brazil   \n",
       "2  Gabriela Guimarães           31               13      Brazil   \n",
       "3     Tijana Bošković           28                3      Serbia   \n",
       "4         Paola Egonu          134                2       Italy   \n",
       "\n",
       "         Position  Birthdate Height Weight  Spike  Block Dominant hand  Age  \n",
       "0  Outside Hitter 1994-11-29  198cm   78kg  327cm  305cm         Right   25  \n",
       "1          Setter 1989-03-03  178cm   68kg  292cm  285cm          null   31  \n",
       "2  Outside Hitter 1994-05-19  180cm   65kg  305cm  289cm         Right   25  \n",
       "3        Opposite 1997-03-08  194cm   84kg  329cm  310cm          Left   23  \n",
       "4        Opposite 1998-12-18  190cm   70kg  336cm  315cm         Right   21  "
      ]
     },
     "execution_count": 655,
     "metadata": {},
     "output_type": "execute_result"
    }
   ],
   "source": [
    "res = result.drop([\"Added by\", \"Views\"], axis=1)\n",
    "res.head()"
   ]
  },
  {
   "cell_type": "code",
   "execution_count": 656,
   "metadata": {},
   "outputs": [
    {
     "data": {
      "text/html": [
       "<div>\n",
       "<style scoped>\n",
       "    .dataframe tbody tr th:only-of-type {\n",
       "        vertical-align: middle;\n",
       "    }\n",
       "\n",
       "    .dataframe tbody tr th {\n",
       "        vertical-align: top;\n",
       "    }\n",
       "\n",
       "    .dataframe thead th {\n",
       "        text-align: right;\n",
       "    }\n",
       "</style>\n",
       "<table border=\"1\" class=\"dataframe\">\n",
       "  <thead>\n",
       "    <tr style=\"text-align: right;\">\n",
       "      <th></th>\n",
       "      <th>Name</th>\n",
       "      <th>Ranking All</th>\n",
       "      <th>Ranking in 2020</th>\n",
       "      <th>Nationality</th>\n",
       "      <th>Position</th>\n",
       "      <th>Birthdate</th>\n",
       "      <th>Height</th>\n",
       "      <th>Weight</th>\n",
       "      <th>Spike</th>\n",
       "      <th>Block</th>\n",
       "      <th>Dominant hand</th>\n",
       "      <th>Age</th>\n",
       "    </tr>\n",
       "  </thead>\n",
       "  <tbody>\n",
       "    <tr>\n",
       "      <td>0</td>\n",
       "      <td>Ting Zhu</td>\n",
       "      <td>3</td>\n",
       "      <td>23</td>\n",
       "      <td>China</td>\n",
       "      <td>Outside Hitter</td>\n",
       "      <td>1994-11-29</td>\n",
       "      <td>198</td>\n",
       "      <td>78</td>\n",
       "      <td>327</td>\n",
       "      <td>305</td>\n",
       "      <td>Right</td>\n",
       "      <td>25</td>\n",
       "    </tr>\n",
       "    <tr>\n",
       "      <td>1</td>\n",
       "      <td>Macris Carneiro</td>\n",
       "      <td>176</td>\n",
       "      <td>19</td>\n",
       "      <td>Brazil</td>\n",
       "      <td>Setter</td>\n",
       "      <td>1989-03-03</td>\n",
       "      <td>178</td>\n",
       "      <td>68</td>\n",
       "      <td>292</td>\n",
       "      <td>285</td>\n",
       "      <td>null</td>\n",
       "      <td>31</td>\n",
       "    </tr>\n",
       "    <tr>\n",
       "      <td>2</td>\n",
       "      <td>Gabriela Guimarães</td>\n",
       "      <td>31</td>\n",
       "      <td>13</td>\n",
       "      <td>Brazil</td>\n",
       "      <td>Outside Hitter</td>\n",
       "      <td>1994-05-19</td>\n",
       "      <td>180</td>\n",
       "      <td>65</td>\n",
       "      <td>305</td>\n",
       "      <td>289</td>\n",
       "      <td>Right</td>\n",
       "      <td>25</td>\n",
       "    </tr>\n",
       "    <tr>\n",
       "      <td>3</td>\n",
       "      <td>Tijana Bošković</td>\n",
       "      <td>28</td>\n",
       "      <td>3</td>\n",
       "      <td>Serbia</td>\n",
       "      <td>Opposite</td>\n",
       "      <td>1997-03-08</td>\n",
       "      <td>194</td>\n",
       "      <td>84</td>\n",
       "      <td>329</td>\n",
       "      <td>310</td>\n",
       "      <td>Left</td>\n",
       "      <td>23</td>\n",
       "    </tr>\n",
       "    <tr>\n",
       "      <td>4</td>\n",
       "      <td>Paola Egonu</td>\n",
       "      <td>134</td>\n",
       "      <td>2</td>\n",
       "      <td>Italy</td>\n",
       "      <td>Opposite</td>\n",
       "      <td>1998-12-18</td>\n",
       "      <td>190</td>\n",
       "      <td>70</td>\n",
       "      <td>336</td>\n",
       "      <td>315</td>\n",
       "      <td>Right</td>\n",
       "      <td>21</td>\n",
       "    </tr>\n",
       "  </tbody>\n",
       "</table>\n",
       "</div>"
      ],
      "text/plain": [
       "                 Name  Ranking All  Ranking in 2020 Nationality  \\\n",
       "0            Ting Zhu            3               23       China   \n",
       "1     Macris Carneiro          176               19      Brazil   \n",
       "2  Gabriela Guimarães           31               13      Brazil   \n",
       "3     Tijana Bošković           28                3      Serbia   \n",
       "4         Paola Egonu          134                2       Italy   \n",
       "\n",
       "         Position  Birthdate Height Weight Spike Block Dominant hand  Age  \n",
       "0  Outside Hitter 1994-11-29    198     78   327   305         Right   25  \n",
       "1          Setter 1989-03-03    178     68   292   285          null   31  \n",
       "2  Outside Hitter 1994-05-19    180     65   305   289         Right   25  \n",
       "3        Opposite 1997-03-08    194     84   329   310          Left   23  \n",
       "4        Opposite 1998-12-18    190     70   336   315         Right   21  "
      ]
     },
     "execution_count": 656,
     "metadata": {},
     "output_type": "execute_result"
    }
   ],
   "source": [
    "import re\n",
    "r = re.compile(\"([0-9]+)([a-zA-Z]+)\")\n",
    "nums1= []\n",
    "nums2= []\n",
    "nums3=[]\n",
    "nums4=[]\n",
    "for i in range(30):\n",
    "    nums1.append(r.match(res[\"Height\"][i]).group(1))\n",
    "    nums2.append(r.match(res[\"Weight\"][i]).group(1))\n",
    "    nums3.append(r.match(res[\"Spike\"][i]).group(1))\n",
    "    nums4.append(r.match(res[\"Block\"][i]).group(1))\n",
    "res[\"Height\"]=nums1\n",
    "res[\"Weight\"]=nums2\n",
    "res[\"Spike\"]=nums3\n",
    "res[\"Block\"]=nums4\n",
    "res.head()"
   ]
  },
  {
   "cell_type": "code",
   "execution_count": 657,
   "metadata": {},
   "outputs": [
    {
     "name": "stdout",
     "output_type": "stream",
     "text": [
      "<class 'pandas.core.frame.DataFrame'>\n",
      "RangeIndex: 30 entries, 0 to 29\n",
      "Data columns (total 12 columns):\n",
      "Name               30 non-null object\n",
      "Ranking All        30 non-null int32\n",
      "Ranking in 2020    30 non-null int32\n",
      "Nationality        30 non-null object\n",
      "Position           30 non-null object\n",
      "Birthdate          30 non-null datetime64[ns]\n",
      "Height             30 non-null int32\n",
      "Weight             30 non-null int32\n",
      "Spike              30 non-null int32\n",
      "Block              30 non-null int32\n",
      "Dominant hand      30 non-null object\n",
      "Age                30 non-null int64\n",
      "dtypes: datetime64[ns](1), int32(6), int64(1), object(4)\n",
      "memory usage: 2.2+ KB\n"
     ]
    }
   ],
   "source": [
    "res[[\"Height\",\"Weight\",\"Spike\",\"Block\"]] = res[[\"Height\",\"Weight\",\"Spike\",\"Block\"]].astype(int)\n",
    "res.info()"
   ]
  },
  {
   "cell_type": "code",
   "execution_count": 617,
   "metadata": {},
   "outputs": [
    {
     "data": {
      "text/plain": [
       "<matplotlib.axes._subplots.AxesSubplot at 0x27f2ddff1c8>"
      ]
     },
     "execution_count": 617,
     "metadata": {},
     "output_type": "execute_result"
    },
    {
     "data": {
      "image/png": "[encoded data removed]",
      "text/plain": [
       "<Figure size 648x576 with 1 Axes>"
      ]
     },
     "metadata": {
      "needs_background": "light"
     },
     "output_type": "display_data"
    }
   ],
   "source": [
    "plt.figure(figsize=(9, 8))\n",
    "sns.distplot(result['Age'], color='k', bins=10, hist_kws={'alpha': 0.8})"
   ]
  },
  {
   "cell_type": "code",
   "execution_count": 658,
   "metadata": {
    "scrolled": true
   },
   "outputs": [
    {
     "data": {
      "text/html": [
       "<div>\n",
       "<style scoped>\n",
       "    .dataframe tbody tr th:only-of-type {\n",
       "        vertical-align: middle;\n",
       "    }\n",
       "\n",
       "    .dataframe tbody tr th {\n",
       "        vertical-align: top;\n",
       "    }\n",
       "\n",
       "    .dataframe thead th {\n",
       "        text-align: right;\n",
       "    }\n",
       "</style>\n",
       "<table border=\"1\" class=\"dataframe\">\n",
       "  <thead>\n",
       "    <tr style=\"text-align: right;\">\n",
       "      <th></th>\n",
       "      <th>Name</th>\n",
       "      <th>Ranking All</th>\n",
       "      <th>Ranking in 2020</th>\n",
       "      <th>Nationality</th>\n",
       "      <th>Position</th>\n",
       "      <th>Birthdate</th>\n",
       "      <th>Height</th>\n",
       "      <th>Weight</th>\n",
       "      <th>Spike</th>\n",
       "      <th>Block</th>\n",
       "      <th>Dominant hand</th>\n",
       "      <th>Age</th>\n",
       "      <th>Ranking 2019</th>\n",
       "    </tr>\n",
       "  </thead>\n",
       "  <tbody>\n",
       "    <tr>\n",
       "      <td>0</td>\n",
       "      <td>Ting Zhu</td>\n",
       "      <td>3</td>\n",
       "      <td>23</td>\n",
       "      <td>China</td>\n",
       "      <td>Outside Hitter</td>\n",
       "      <td>1994-11-29</td>\n",
       "      <td>198</td>\n",
       "      <td>78</td>\n",
       "      <td>327</td>\n",
       "      <td>305</td>\n",
       "      <td>Right</td>\n",
       "      <td>25</td>\n",
       "      <td>1</td>\n",
       "    </tr>\n",
       "    <tr>\n",
       "      <td>1</td>\n",
       "      <td>Macris Carneiro</td>\n",
       "      <td>176</td>\n",
       "      <td>19</td>\n",
       "      <td>Brazil</td>\n",
       "      <td>Setter</td>\n",
       "      <td>1989-03-03</td>\n",
       "      <td>178</td>\n",
       "      <td>68</td>\n",
       "      <td>292</td>\n",
       "      <td>285</td>\n",
       "      <td>null</td>\n",
       "      <td>31</td>\n",
       "      <td>2</td>\n",
       "    </tr>\n",
       "    <tr>\n",
       "      <td>2</td>\n",
       "      <td>Gabriela Guimarães</td>\n",
       "      <td>31</td>\n",
       "      <td>13</td>\n",
       "      <td>Brazil</td>\n",
       "      <td>Outside Hitter</td>\n",
       "      <td>1994-05-19</td>\n",
       "      <td>180</td>\n",
       "      <td>65</td>\n",
       "      <td>305</td>\n",
       "      <td>289</td>\n",
       "      <td>Right</td>\n",
       "      <td>25</td>\n",
       "      <td>3</td>\n",
       "    </tr>\n",
       "    <tr>\n",
       "      <td>3</td>\n",
       "      <td>Tijana Bošković</td>\n",
       "      <td>28</td>\n",
       "      <td>3</td>\n",
       "      <td>Serbia</td>\n",
       "      <td>Opposite</td>\n",
       "      <td>1997-03-08</td>\n",
       "      <td>194</td>\n",
       "      <td>84</td>\n",
       "      <td>329</td>\n",
       "      <td>310</td>\n",
       "      <td>Left</td>\n",
       "      <td>23</td>\n",
       "      <td>4</td>\n",
       "    </tr>\n",
       "    <tr>\n",
       "      <td>4</td>\n",
       "      <td>Paola Egonu</td>\n",
       "      <td>134</td>\n",
       "      <td>2</td>\n",
       "      <td>Italy</td>\n",
       "      <td>Opposite</td>\n",
       "      <td>1998-12-18</td>\n",
       "      <td>190</td>\n",
       "      <td>70</td>\n",
       "      <td>336</td>\n",
       "      <td>315</td>\n",
       "      <td>Right</td>\n",
       "      <td>21</td>\n",
       "      <td>5</td>\n",
       "    </tr>\n",
       "  </tbody>\n",
       "</table>\n",
       "</div>"
      ],
      "text/plain": [
       "                 Name  Ranking All  Ranking in 2020 Nationality  \\\n",
       "0            Ting Zhu            3               23       China   \n",
       "1     Macris Carneiro          176               19      Brazil   \n",
       "2  Gabriela Guimarães           31               13      Brazil   \n",
       "3     Tijana Bošković           28                3      Serbia   \n",
       "4         Paola Egonu          134                2       Italy   \n",
       "\n",
       "         Position  Birthdate  Height  Weight  Spike  Block Dominant hand  Age  \\\n",
       "0  Outside Hitter 1994-11-29     198      78    327    305         Right   25   \n",
       "1          Setter 1989-03-03     178      68    292    285          null   31   \n",
       "2  Outside Hitter 1994-05-19     180      65    305    289         Right   25   \n",
       "3        Opposite 1997-03-08     194      84    329    310          Left   23   \n",
       "4        Opposite 1998-12-18     190      70    336    315         Right   21   \n",
       "\n",
       "   Ranking 2019  \n",
       "0             1  \n",
       "1             2  \n",
       "2             3  \n",
       "3             4  \n",
       "4             5  "
      ]
     },
     "execution_count": 658,
     "metadata": {},
     "output_type": "execute_result"
    }
   ],
   "source": [
    "res[\"Ranking 2019\"] = np.array(res.index+1)\n",
    "res.head()"
   ]
  },
  {
   "cell_type": "code",
   "execution_count": 660,
   "metadata": {},
   "outputs": [
    {
     "data": {
      "text/plain": [
       "<seaborn.axisgrid.PairGrid at 0x27f1ae9d708>"
      ]
     },
     "execution_count": 660,
     "metadata": {},
     "output_type": "execute_result"
    },
    {
     "data": {
      "image/png": "[encoded data removed]",
      "text/plain": [
       "<Figure size 1440x1440 with 72 Axes>"
      ]
     },
     "metadata": {
      "needs_background": "light"
     },
     "output_type": "display_data"
    }
   ],
   "source": [
    "sns.pairplot(data=res)"
   ]
  },
  {
   "cell_type": "code",
   "execution_count": 659,
   "metadata": {},
   "outputs": [
    {
     "data": {
      "text/html": [
       "<div>\n",
       "<style scoped>\n",
       "    .dataframe tbody tr th:only-of-type {\n",
       "        vertical-align: middle;\n",
       "    }\n",
       "\n",
       "    .dataframe tbody tr th {\n",
       "        vertical-align: top;\n",
       "    }\n",
       "\n",
       "    .dataframe thead th {\n",
       "        text-align: right;\n",
       "    }\n",
       "</style>\n",
       "<table border=\"1\" class=\"dataframe\">\n",
       "  <thead>\n",
       "    <tr style=\"text-align: right;\">\n",
       "      <th></th>\n",
       "      <th>Ranking All</th>\n",
       "      <th>Ranking in 2020</th>\n",
       "      <th>Height</th>\n",
       "      <th>Weight</th>\n",
       "      <th>Spike</th>\n",
       "      <th>Block</th>\n",
       "      <th>Age</th>\n",
       "      <th>Ranking 2019</th>\n",
       "    </tr>\n",
       "  </thead>\n",
       "  <tbody>\n",
       "    <tr>\n",
       "      <td>Ranking All</td>\n",
       "      <td>1.000000</td>\n",
       "      <td>0.490108</td>\n",
       "      <td>-0.164936</td>\n",
       "      <td>-0.304236</td>\n",
       "      <td>-0.223509</td>\n",
       "      <td>-0.224581</td>\n",
       "      <td>-0.546665</td>\n",
       "      <td>0.096672</td>\n",
       "    </tr>\n",
       "    <tr>\n",
       "      <td>Ranking in 2020</td>\n",
       "      <td>0.490108</td>\n",
       "      <td>1.000000</td>\n",
       "      <td>-0.112572</td>\n",
       "      <td>-0.205910</td>\n",
       "      <td>-0.103460</td>\n",
       "      <td>-0.135307</td>\n",
       "      <td>-0.113801</td>\n",
       "      <td>0.233354</td>\n",
       "    </tr>\n",
       "    <tr>\n",
       "      <td>Height</td>\n",
       "      <td>-0.164936</td>\n",
       "      <td>-0.112572</td>\n",
       "      <td>1.000000</td>\n",
       "      <td>0.770036</td>\n",
       "      <td>0.834334</td>\n",
       "      <td>0.799681</td>\n",
       "      <td>-0.293090</td>\n",
       "      <td>0.068945</td>\n",
       "    </tr>\n",
       "    <tr>\n",
       "      <td>Weight</td>\n",
       "      <td>-0.304236</td>\n",
       "      <td>-0.205910</td>\n",
       "      <td>0.770036</td>\n",
       "      <td>1.000000</td>\n",
       "      <td>0.731490</td>\n",
       "      <td>0.755632</td>\n",
       "      <td>-0.109657</td>\n",
       "      <td>-0.046298</td>\n",
       "    </tr>\n",
       "    <tr>\n",
       "      <td>Spike</td>\n",
       "      <td>-0.223509</td>\n",
       "      <td>-0.103460</td>\n",
       "      <td>0.834334</td>\n",
       "      <td>0.731490</td>\n",
       "      <td>1.000000</td>\n",
       "      <td>0.946269</td>\n",
       "      <td>-0.295521</td>\n",
       "      <td>-0.137786</td>\n",
       "    </tr>\n",
       "    <tr>\n",
       "      <td>Block</td>\n",
       "      <td>-0.224581</td>\n",
       "      <td>-0.135307</td>\n",
       "      <td>0.799681</td>\n",
       "      <td>0.755632</td>\n",
       "      <td>0.946269</td>\n",
       "      <td>1.000000</td>\n",
       "      <td>-0.234066</td>\n",
       "      <td>-0.080707</td>\n",
       "    </tr>\n",
       "    <tr>\n",
       "      <td>Age</td>\n",
       "      <td>-0.546665</td>\n",
       "      <td>-0.113801</td>\n",
       "      <td>-0.293090</td>\n",
       "      <td>-0.109657</td>\n",
       "      <td>-0.295521</td>\n",
       "      <td>-0.234066</td>\n",
       "      <td>1.000000</td>\n",
       "      <td>0.225176</td>\n",
       "    </tr>\n",
       "    <tr>\n",
       "      <td>Ranking 2019</td>\n",
       "      <td>0.096672</td>\n",
       "      <td>0.233354</td>\n",
       "      <td>0.068945</td>\n",
       "      <td>-0.046298</td>\n",
       "      <td>-0.137786</td>\n",
       "      <td>-0.080707</td>\n",
       "      <td>0.225176</td>\n",
       "      <td>1.000000</td>\n",
       "    </tr>\n",
       "  </tbody>\n",
       "</table>\n",
       "</div>"
      ],
      "text/plain": [
       "                 Ranking All  Ranking in 2020    Height    Weight     Spike  \\\n",
       "Ranking All         1.000000         0.490108 -0.164936 -0.304236 -0.223509   \n",
       "Ranking in 2020     0.490108         1.000000 -0.112572 -0.205910 -0.103460   \n",
       "Height             -0.164936        -0.112572  1.000000  0.770036  0.834334   \n",
       "Weight             -0.304236        -0.205910  0.770036  1.000000  0.731490   \n",
       "Spike              -0.223509        -0.103460  0.834334  0.731490  1.000000   \n",
       "Block              -0.224581        -0.135307  0.799681  0.755632  0.946269   \n",
       "Age                -0.546665        -0.113801 -0.293090 -0.109657 -0.295521   \n",
       "Ranking 2019        0.096672         0.233354  0.068945 -0.046298 -0.137786   \n",
       "\n",
       "                    Block       Age  Ranking 2019  \n",
       "Ranking All     -0.224581 -0.546665      0.096672  \n",
       "Ranking in 2020 -0.135307 -0.113801      0.233354  \n",
       "Height           0.799681 -0.293090      0.068945  \n",
       "Weight           0.755632 -0.109657     -0.046298  \n",
       "Spike            0.946269 -0.295521     -0.137786  \n",
       "Block            1.000000 -0.234066     -0.080707  \n",
       "Age             -0.234066  1.000000      0.225176  \n",
       "Ranking 2019    -0.080707  0.225176      1.000000  "
      ]
     },
     "execution_count": 659,
     "metadata": {},
     "output_type": "execute_result"
    }
   ],
   "source": [
    "corr = res.corr()\n",
    "corr"
   ]
  },
  {
   "cell_type": "code",
   "execution_count": 661,
   "metadata": {},
   "outputs": [
    {
     "data": {
      "text/plain": [
       "<matplotlib.axes._subplots.AxesSubplot at 0x27f1aead808>"
      ]
     },
     "execution_count": 661,
     "metadata": {},
     "output_type": "execute_result"
    },
    {
     "data": {
      "image/png": "[encoded data removed]",
      "text/plain": [
       "<Figure size 864x576 with 2 Axes>"
      ]
     },
     "metadata": {
      "needs_background": "light"
     },
     "output_type": "display_data"
    }
   ],
   "source": [
    "#corr matrix\n",
    "mask = np.triu(np.ones_like(corr, dtype=np.bool))\n",
    "# Set up the matplotlib figure\n",
    "f, ax = plt.subplots(figsize=(12, 8))\n",
    "\n",
    "# Generate a custom diverging colormap\n",
    "cmap = sns.diverging_palette(220, 10, as_cmap=True)\n",
    "\n",
    "# Draw the heatmap with the mask and correct aspect ratio\n",
    "sns.heatmap(corr, mask=mask, cmap=cmap, vmax=.9, center=0,\n",
    "            square=True, linewidths=.5, cbar_kws={\"shrink\": .5})"
   ]
  },
  {
   "cell_type": "code",
   "execution_count": 748,
   "metadata": {},
   "outputs": [],
   "source": [
    "points= []\n",
    "\n",
    "url=\"https://women.volleybox.net/players/ranking/2019\"\n",
    "html_content = requests.get(url).text\n",
    "soup = BeautifulSoup(html_content, \"lxml\")\n",
    "\n",
    "spans= soup.find_all( \"span\",{\"class\" : \"bolded-points\"}, href=False)\n",
    "for span in spans:\n",
    "        points.append(span.string)\n",
    "points;"
   ]
  },
  {
   "cell_type": "code",
   "execution_count": 749,
   "metadata": {},
   "outputs": [],
   "source": [
    "points2 = []\n",
    "for i in range(30):\n",
    "    points2.append([line for line in points[i].replace(\" \", \"\").split('\\n') if line.strip() != ''][0])\n",
    "points2;"
   ]
  },
  {
   "cell_type": "code",
   "execution_count": 662,
   "metadata": {},
   "outputs": [
    {
     "data": {
      "text/html": [
       "<div>\n",
       "<style scoped>\n",
       "    .dataframe tbody tr th:only-of-type {\n",
       "        vertical-align: middle;\n",
       "    }\n",
       "\n",
       "    .dataframe tbody tr th {\n",
       "        vertical-align: top;\n",
       "    }\n",
       "\n",
       "    .dataframe thead th {\n",
       "        text-align: right;\n",
       "    }\n",
       "</style>\n",
       "<table border=\"1\" class=\"dataframe\">\n",
       "  <thead>\n",
       "    <tr style=\"text-align: right;\">\n",
       "      <th></th>\n",
       "      <th>Name</th>\n",
       "      <th>Ranking All</th>\n",
       "      <th>Ranking in 2020</th>\n",
       "      <th>Nationality</th>\n",
       "      <th>Position</th>\n",
       "      <th>Birthdate</th>\n",
       "      <th>Height</th>\n",
       "      <th>Weight</th>\n",
       "      <th>Spike</th>\n",
       "      <th>Block</th>\n",
       "      <th>Dominant hand</th>\n",
       "      <th>Age</th>\n",
       "      <th>Ranking 2019</th>\n",
       "      <th>Points</th>\n",
       "    </tr>\n",
       "  </thead>\n",
       "  <tbody>\n",
       "    <tr>\n",
       "      <td>0</td>\n",
       "      <td>Ting Zhu</td>\n",
       "      <td>3</td>\n",
       "      <td>23</td>\n",
       "      <td>China</td>\n",
       "      <td>Outside Hitter</td>\n",
       "      <td>1994-11-29</td>\n",
       "      <td>198</td>\n",
       "      <td>78</td>\n",
       "      <td>327</td>\n",
       "      <td>305</td>\n",
       "      <td>Right</td>\n",
       "      <td>25</td>\n",
       "      <td>1</td>\n",
       "      <td>1190.00</td>\n",
       "    </tr>\n",
       "    <tr>\n",
       "      <td>1</td>\n",
       "      <td>Macris Carneiro</td>\n",
       "      <td>176</td>\n",
       "      <td>19</td>\n",
       "      <td>Brazil</td>\n",
       "      <td>Setter</td>\n",
       "      <td>1989-03-03</td>\n",
       "      <td>178</td>\n",
       "      <td>68</td>\n",
       "      <td>292</td>\n",
       "      <td>285</td>\n",
       "      <td>null</td>\n",
       "      <td>31</td>\n",
       "      <td>2</td>\n",
       "      <td>833.00</td>\n",
       "    </tr>\n",
       "    <tr>\n",
       "      <td>2</td>\n",
       "      <td>Gabriela Guimarães</td>\n",
       "      <td>31</td>\n",
       "      <td>13</td>\n",
       "      <td>Brazil</td>\n",
       "      <td>Outside Hitter</td>\n",
       "      <td>1994-05-19</td>\n",
       "      <td>180</td>\n",
       "      <td>65</td>\n",
       "      <td>305</td>\n",
       "      <td>289</td>\n",
       "      <td>Right</td>\n",
       "      <td>25</td>\n",
       "      <td>3</td>\n",
       "      <td>788.00</td>\n",
       "    </tr>\n",
       "    <tr>\n",
       "      <td>3</td>\n",
       "      <td>Tijana Bošković</td>\n",
       "      <td>28</td>\n",
       "      <td>3</td>\n",
       "      <td>Serbia</td>\n",
       "      <td>Opposite</td>\n",
       "      <td>1997-03-08</td>\n",
       "      <td>194</td>\n",
       "      <td>84</td>\n",
       "      <td>329</td>\n",
       "      <td>310</td>\n",
       "      <td>Left</td>\n",
       "      <td>23</td>\n",
       "      <td>4</td>\n",
       "      <td>630.50</td>\n",
       "    </tr>\n",
       "    <tr>\n",
       "      <td>4</td>\n",
       "      <td>Paola Egonu</td>\n",
       "      <td>134</td>\n",
       "      <td>2</td>\n",
       "      <td>Italy</td>\n",
       "      <td>Opposite</td>\n",
       "      <td>1998-12-18</td>\n",
       "      <td>190</td>\n",
       "      <td>70</td>\n",
       "      <td>336</td>\n",
       "      <td>315</td>\n",
       "      <td>Right</td>\n",
       "      <td>21</td>\n",
       "      <td>5</td>\n",
       "      <td>597.00</td>\n",
       "    </tr>\n",
       "  </tbody>\n",
       "</table>\n",
       "</div>"
      ],
      "text/plain": [
       "                 Name  Ranking All  Ranking in 2020 Nationality  \\\n",
       "0            Ting Zhu            3               23       China   \n",
       "1     Macris Carneiro          176               19      Brazil   \n",
       "2  Gabriela Guimarães           31               13      Brazil   \n",
       "3     Tijana Bošković           28                3      Serbia   \n",
       "4         Paola Egonu          134                2       Italy   \n",
       "\n",
       "         Position  Birthdate  Height  Weight  Spike  Block Dominant hand  Age  \\\n",
       "0  Outside Hitter 1994-11-29     198      78    327    305         Right   25   \n",
       "1          Setter 1989-03-03     178      68    292    285          null   31   \n",
       "2  Outside Hitter 1994-05-19     180      65    305    289         Right   25   \n",
       "3        Opposite 1997-03-08     194      84    329    310          Left   23   \n",
       "4        Opposite 1998-12-18     190      70    336    315         Right   21   \n",
       "\n",
       "   Ranking 2019   Points  \n",
       "0             1  1190.00  \n",
       "1             2   833.00  \n",
       "2             3   788.00  \n",
       "3             4   630.50  \n",
       "4             5   597.00  "
      ]
     },
     "execution_count": 662,
     "metadata": {},
     "output_type": "execute_result"
    }
   ],
   "source": [
    "res[\"Points\"] = points2\n",
    "points3= []\n",
    "for i in range(30):\n",
    "    points3.append(re.findall(\"\\d+\\.\\d+\", res[\"Points\"][i])[0])\n",
    "\n",
    "res[\"Points\"] = points3\n",
    "res.head()"
   ]
  },
  {
   "cell_type": "code",
   "execution_count": 663,
   "metadata": {},
   "outputs": [
    {
     "name": "stdout",
     "output_type": "stream",
     "text": [
      "<class 'pandas.core.frame.DataFrame'>\n",
      "RangeIndex: 30 entries, 0 to 29\n",
      "Data columns (total 14 columns):\n",
      "Name               30 non-null object\n",
      "Ranking All        30 non-null int32\n",
      "Ranking in 2020    30 non-null int32\n",
      "Nationality        30 non-null object\n",
      "Position           30 non-null object\n",
      "Birthdate          30 non-null datetime64[ns]\n",
      "Height             30 non-null int32\n",
      "Weight             30 non-null int32\n",
      "Spike              30 non-null int32\n",
      "Block              30 non-null int32\n",
      "Dominant hand      30 non-null object\n",
      "Age                30 non-null int64\n",
      "Ranking 2019       30 non-null int64\n",
      "Points             30 non-null float64\n",
      "dtypes: datetime64[ns](1), float64(1), int32(6), int64(2), object(4)\n",
      "memory usage: 2.7+ KB\n"
     ]
    }
   ],
   "source": [
    "res[\"Points\"] = res[\"Points\"].astype(float)\n",
    "res.info()"
   ]
  },
  {
   "cell_type": "code",
   "execution_count": 665,
   "metadata": {},
   "outputs": [
    {
     "data": {
      "image/png": "[encoded data removed]",
      "text/plain": [
       "<Figure size 1296x864 with 9 Axes>"
      ]
     },
     "metadata": {
      "needs_background": "light"
     },
     "output_type": "display_data"
    }
   ],
   "source": [
    "features_to_analyse = ['Ranking All', 'Ranking in 2020','Height', 'Weight', 'Spike', 'Block','Age','Points']\n",
    "fig, ax = plt.subplots(round(len(features_to_analyse) / 3), 3, figsize = (18, 12))\n",
    "for i, ax in enumerate(fig.axes):\n",
    "    if i < len(features_to_analyse) - 1:\n",
    "        sns.regplot(x=features_to_analyse[i],y='Points', data=res[features_to_analyse], ax=ax)"
   ]
  },
  {
   "cell_type": "code",
   "execution_count": 666,
   "metadata": {},
   "outputs": [
    {
     "data": {
      "text/plain": [
       "Dominant hand\n",
       "Left     1587.7\n",
       "Right    1417.0\n",
       "Name: Points, dtype: float64"
      ]
     },
     "execution_count": 666,
     "metadata": {},
     "output_type": "execute_result"
    }
   ],
   "source": [
    "res[res[\"Position\"]==\"Opposite\"].groupby(\"Dominant hand\")[\"Points\"].sum()"
   ]
  },
  {
   "cell_type": "code",
   "execution_count": 667,
   "metadata": {},
   "outputs": [
    {
     "data": {
      "image/png": "[encoded data removed]",
      "text/plain": [
       "<Figure size 432x288 with 1 Axes>"
      ]
     },
     "metadata": {
      "needs_background": "light"
     },
     "output_type": "display_data"
    }
   ],
   "source": [
    "sns.barplot(x=res[res[\"Position\"]==\"Opposite\"].groupby(\"Dominant hand\")[\"Points\"].sum().index,y=res[res[\"Position\"]==\"Opposite\"].groupby(\"Dominant hand\")[\"Points\"].sum())\n",
    "plt.xlabel('Dominant Hand')\n",
    "plt.ylabel(\"Points Mean\")\n",
    "plt.xticks(rotation=90)\n",
    "plt.title(\"Opposite Dominant Hand\")\n",
    "\n",
    "plt.show()"
   ]
  },
  {
   "cell_type": "code",
   "execution_count": 668,
   "metadata": {},
   "outputs": [
    {
     "data": {
      "text/html": [
       "<div>\n",
       "<style scoped>\n",
       "    .dataframe tbody tr th:only-of-type {\n",
       "        vertical-align: middle;\n",
       "    }\n",
       "\n",
       "    .dataframe tbody tr th {\n",
       "        vertical-align: top;\n",
       "    }\n",
       "\n",
       "    .dataframe thead th {\n",
       "        text-align: right;\n",
       "    }\n",
       "</style>\n",
       "<table border=\"1\" class=\"dataframe\">\n",
       "  <thead>\n",
       "    <tr style=\"text-align: right;\">\n",
       "      <th></th>\n",
       "      <th>Name</th>\n",
       "      <th>Ranking All</th>\n",
       "      <th>Ranking in 2020</th>\n",
       "      <th>Nationality</th>\n",
       "      <th>Position</th>\n",
       "      <th>Birthdate</th>\n",
       "      <th>Height</th>\n",
       "      <th>Weight</th>\n",
       "      <th>Spike</th>\n",
       "      <th>Block</th>\n",
       "      <th>Dominant hand</th>\n",
       "      <th>Age</th>\n",
       "      <th>Ranking 2019</th>\n",
       "      <th>Points</th>\n",
       "    </tr>\n",
       "  </thead>\n",
       "  <tbody>\n",
       "    <tr>\n",
       "      <td>3</td>\n",
       "      <td>Tijana Bošković</td>\n",
       "      <td>28</td>\n",
       "      <td>3</td>\n",
       "      <td>Serbia</td>\n",
       "      <td>Opposite</td>\n",
       "      <td>1997-03-08</td>\n",
       "      <td>194</td>\n",
       "      <td>84</td>\n",
       "      <td>329</td>\n",
       "      <td>310</td>\n",
       "      <td>Left</td>\n",
       "      <td>23</td>\n",
       "      <td>4</td>\n",
       "      <td>630.5</td>\n",
       "    </tr>\n",
       "    <tr>\n",
       "      <td>4</td>\n",
       "      <td>Paola Egonu</td>\n",
       "      <td>134</td>\n",
       "      <td>2</td>\n",
       "      <td>Italy</td>\n",
       "      <td>Opposite</td>\n",
       "      <td>1998-12-18</td>\n",
       "      <td>190</td>\n",
       "      <td>70</td>\n",
       "      <td>336</td>\n",
       "      <td>315</td>\n",
       "      <td>Right</td>\n",
       "      <td>21</td>\n",
       "      <td>5</td>\n",
       "      <td>597.0</td>\n",
       "    </tr>\n",
       "    <tr>\n",
       "      <td>8</td>\n",
       "      <td>Andrea Drews</td>\n",
       "      <td>621</td>\n",
       "      <td>14</td>\n",
       "      <td>USA</td>\n",
       "      <td>Opposite</td>\n",
       "      <td>1993-12-25</td>\n",
       "      <td>191</td>\n",
       "      <td>77</td>\n",
       "      <td>316</td>\n",
       "      <td>312</td>\n",
       "      <td>Left</td>\n",
       "      <td>26</td>\n",
       "      <td>9</td>\n",
       "      <td>540.2</td>\n",
       "    </tr>\n",
       "    <tr>\n",
       "      <td>12</td>\n",
       "      <td>Melissa Vargas</td>\n",
       "      <td>562</td>\n",
       "      <td>0</td>\n",
       "      <td>Cuba</td>\n",
       "      <td>Opposite</td>\n",
       "      <td>1999-10-16</td>\n",
       "      <td>194</td>\n",
       "      <td>76</td>\n",
       "      <td>320</td>\n",
       "      <td>310</td>\n",
       "      <td>Right</td>\n",
       "      <td>20</td>\n",
       "      <td>13</td>\n",
       "      <td>447.0</td>\n",
       "    </tr>\n",
       "    <tr>\n",
       "      <td>15</td>\n",
       "      <td>Karsta Lowe</td>\n",
       "      <td>718</td>\n",
       "      <td>1081</td>\n",
       "      <td>USA</td>\n",
       "      <td>Opposite</td>\n",
       "      <td>1993-02-02</td>\n",
       "      <td>196</td>\n",
       "      <td>75</td>\n",
       "      <td>315</td>\n",
       "      <td>305</td>\n",
       "      <td>Left</td>\n",
       "      <td>27</td>\n",
       "      <td>16</td>\n",
       "      <td>417.0</td>\n",
       "    </tr>\n",
       "    <tr>\n",
       "      <td>22</td>\n",
       "      <td>Nataliya Goncharova</td>\n",
       "      <td>34</td>\n",
       "      <td>235</td>\n",
       "      <td>Russia, Ukraine</td>\n",
       "      <td>Opposite</td>\n",
       "      <td>1989-06-01</td>\n",
       "      <td>196</td>\n",
       "      <td>75</td>\n",
       "      <td>321</td>\n",
       "      <td>310</td>\n",
       "      <td>Right</td>\n",
       "      <td>30</td>\n",
       "      <td>23</td>\n",
       "      <td>373.0</td>\n",
       "    </tr>\n",
       "  </tbody>\n",
       "</table>\n",
       "</div>"
      ],
      "text/plain": [
       "                   Name  Ranking All  Ranking in 2020      Nationality  \\\n",
       "3       Tijana Bošković           28                3           Serbia   \n",
       "4           Paola Egonu          134                2            Italy   \n",
       "8          Andrea Drews          621               14              USA   \n",
       "12       Melissa Vargas          562                0             Cuba   \n",
       "15          Karsta Lowe          718             1081              USA   \n",
       "22  Nataliya Goncharova           34              235  Russia, Ukraine   \n",
       "\n",
       "    Position  Birthdate  Height  Weight  Spike  Block Dominant hand  Age  \\\n",
       "3   Opposite 1997-03-08     194      84    329    310          Left   23   \n",
       "4   Opposite 1998-12-18     190      70    336    315         Right   21   \n",
       "8   Opposite 1993-12-25     191      77    316    312          Left   26   \n",
       "12  Opposite 1999-10-16     194      76    320    310         Right   20   \n",
       "15  Opposite 1993-02-02     196      75    315    305          Left   27   \n",
       "22  Opposite 1989-06-01     196      75    321    310         Right   30   \n",
       "\n",
       "    Ranking 2019  Points  \n",
       "3              4   630.5  \n",
       "4              5   597.0  \n",
       "8              9   540.2  \n",
       "12            13   447.0  \n",
       "15            16   417.0  \n",
       "22            23   373.0  "
      ]
     },
     "execution_count": 668,
     "metadata": {},
     "output_type": "execute_result"
    }
   ],
   "source": [
    "res[res[\"Position\"]==\"Opposite\"]"
   ]
  },
  {
   "cell_type": "code",
   "execution_count": 232,
   "metadata": {},
   "outputs": [
    {
     "data": {
      "image/png": "[encoded data removed]",
      "text/plain": [
       "<Figure size 432x288 with 1 Axes>"
      ]
     },
     "metadata": {
      "needs_background": "light"
     },
     "output_type": "display_data"
    }
   ],
   "source": [
    "sns.barplot(x=res.groupby(\"Position\")[\"Points\"].sum().index,y=res.groupby(\"Position\")[\"Points\"].sum())\n",
    "plt.xlabel('Position')\n",
    "plt.ylabel(\"Points Mean\")\n",
    "plt.xticks(rotation=90)\n",
    "plt.title(\"Position Points Mean\")\n",
    "\n",
    "plt.show()"
   ]
  },
  {
   "cell_type": "code",
   "execution_count": 237,
   "metadata": {},
   "outputs": [
    {
     "data": {
      "text/plain": [
       "(array([0, 1, 2, 3, 4]), <a list of 5 Text xticklabel objects>)"
      ]
     },
     "execution_count": 237,
     "metadata": {},
     "output_type": "execute_result"
    },
    {
     "data": {
      "image/png": "[encoded data removed]",
      "text/plain": [
       "<Figure size 720x432 with 1 Axes>"
      ]
     },
     "metadata": {
      "needs_background": "light"
     },
     "output_type": "display_data"
    }
   ],
   "source": [
    "plt.figure(figsize = (10, 6))\n",
    "ax = sns.boxplot(x='Position', y='Height', data=res)\n",
    "plt.setp(ax.artists, alpha=.5, linewidth=2, edgecolor=\"k\")\n",
    "plt.xticks(rotation=45)"
   ]
  },
  {
   "cell_type": "code",
   "execution_count": 618,
   "metadata": {},
   "outputs": [],
   "source": [
    "from scipy import stats\n",
    "\n",
    "hitter = res[res[\"Position\"]==\"Outside Hitter\"]\n",
    "z = np.abs(stats.zscore(hitter[\"Height\"]))\n"
   ]
  },
  {
   "cell_type": "code",
   "execution_count": 253,
   "metadata": {},
   "outputs": [
    {
     "data": {
      "text/plain": [
       "7    173\n",
       "Name: Height, dtype: int32"
      ]
     },
     "execution_count": 253,
     "metadata": {},
     "output_type": "execute_result"
    }
   ],
   "source": [
    "hitter[\"Height\"][(z > 2)]"
   ]
  },
  {
   "cell_type": "code",
   "execution_count": 254,
   "metadata": {},
   "outputs": [
    {
     "data": {
      "text/plain": [
       "Name                     Mayu Ishikawa\n",
       "Ranking                           1601\n",
       "Ranking in 2020                   1668\n",
       "Nationality                      Japan\n",
       "Position                Outside Hitter\n",
       "Birthdate          2000-05-14 00:00:00\n",
       "Height                             173\n",
       "Weight                              65\n",
       "Spike                              300\n",
       "Block                              290\n",
       "Dominant hand                    Right\n",
       "Age                                 19\n",
       "Ranking 2019                         8\n",
       "Points                          553.25\n",
       "Name: 7, dtype: object"
      ]
     },
     "execution_count": 254,
     "metadata": {},
     "output_type": "execute_result"
    }
   ],
   "source": [
    "hitter.loc[7,:]"
   ]
  },
  {
   "cell_type": "code",
   "execution_count": 257,
   "metadata": {},
   "outputs": [
    {
     "data": {
      "text/plain": [
       "[<matplotlib.lines.Line2D at 0x27f290bee08>]"
      ]
     },
     "execution_count": 257,
     "metadata": {},
     "output_type": "execute_result"
    },
    {
     "data": {
      "image/png": "[encoded data removed]",
      "text/plain": [
       "<Figure size 432x288 with 1 Axes>"
      ]
     },
     "metadata": {
      "needs_background": "light"
     },
     "output_type": "display_data"
    }
   ],
   "source": [
    "a = hitter[\"Height\"].quantile([0, 0.1, 0.2, 0.3, 0.4, 0.5, 0.6, 0.7, 0.8, 0.9, 1])\n",
    "plt.grid()\n",
    "plt.plot(a)"
   ]
  },
  {
   "cell_type": "code",
   "execution_count": 250,
   "metadata": {},
   "outputs": [
    {
     "data": {
      "text/plain": [
       "0.0    173.0\n",
       "0.1    179.3\n",
       "0.2    184.8\n",
       "0.3    187.4\n",
       "0.4    188.0\n",
       "0.5    188.0\n",
       "0.6    189.6\n",
       "0.7    192.6\n",
       "0.8    194.8\n",
       "0.9    198.3\n",
       "1.0    201.0\n",
       "Name: Height, dtype: float64"
      ]
     },
     "execution_count": 250,
     "metadata": {},
     "output_type": "execute_result"
    }
   ],
   "source": [
    "a"
   ]
  },
  {
   "cell_type": "code",
   "execution_count": 258,
   "metadata": {},
   "outputs": [
    {
     "data": {
      "image/png": "[encoded data removed]",
      "text/plain": [
       "<Figure size 432x288 with 1 Axes>"
      ]
     },
     "metadata": {
      "needs_background": "light"
     },
     "output_type": "display_data"
    }
   ],
   "source": [
    "sns.barplot(x=res.groupby(\"Age\")[\"Points\"].sum().index,y=res.groupby(\"Age\")[\"Points\"].sum())\n",
    "plt.xlabel('Age')\n",
    "plt.ylabel(\"Points Mean\")\n",
    "plt.xticks(rotation=90)\n",
    "plt.title(\"Points Mean by Age\")\n",
    "\n",
    "plt.show()"
   ]
  },
  {
   "cell_type": "code",
   "execution_count": 265,
   "metadata": {},
   "outputs": [
    {
     "data": {
      "image/png": "[encoded data removed]",
      "text/plain": [
       "<Figure size 432x288 with 1 Axes>"
      ]
     },
     "metadata": {
      "needs_background": "light"
     },
     "output_type": "display_data"
    }
   ],
   "source": [
    "sns.countplot(res[\"Position\"], order = res[\"Position\"].value_counts().index)\n",
    "plt.xticks(rotation=90)\n",
    "plt.show()"
   ]
  },
  {
   "cell_type": "code",
   "execution_count": 269,
   "metadata": {},
   "outputs": [
    {
     "data": {
      "text/plain": [
       "Outside Hitter    10\n",
       "Middle-blocker     9\n",
       "Opposite           6\n",
       "Setter             3\n",
       "Libero             2\n",
       "Name: Position, dtype: int64"
      ]
     },
     "execution_count": 269,
     "metadata": {},
     "output_type": "execute_result"
    }
   ],
   "source": [
    "p = res[\"Position\"].value_counts()\n",
    "p"
   ]
  },
  {
   "cell_type": "code",
   "execution_count": 273,
   "metadata": {},
   "outputs": [
    {
     "data": {
      "text/plain": [
       "<matplotlib.axes._subplots.AxesSubplot at 0x27f28167b48>"
      ]
     },
     "execution_count": 273,
     "metadata": {},
     "output_type": "execute_result"
    },
    {
     "data": {
      "image/png": "[encoded data removed]",
      "text/plain": [
       "<Figure size 432x288 with 1 Axes>"
      ]
     },
     "metadata": {
      "needs_background": "light"
     },
     "output_type": "display_data"
    }
   ],
   "source": [
    "probabilities = res[\"Position\"].value_counts(normalize=True)    \n",
    "sns.barplot(probabilities.index, probabilities.values)"
   ]
  },
  {
   "cell_type": "code",
   "execution_count": 276,
   "metadata": {},
   "outputs": [
    {
     "data": {
      "text/plain": [
       "[<matplotlib.lines.Line2D at 0x27f282d8588>]"
      ]
     },
     "execution_count": 276,
     "metadata": {},
     "output_type": "execute_result"
    },
    {
     "data": {
      "image/png": "[encoded data removed]",
      "text/plain": [
       "<Figure size 432x288 with 1 Axes>"
      ]
     },
     "metadata": {
      "needs_background": "light"
     },
     "output_type": "display_data"
    }
   ],
   "source": [
    "plt.plot(\"Ranking 2019\", \"Points\", data=res)"
   ]
  },
  {
   "cell_type": "code",
   "execution_count": 283,
   "metadata": {},
   "outputs": [
    {
     "data": {
      "text/plain": [
       "7     1601\n",
       "17    1211\n",
       "Name: Ranking, dtype: int32"
      ]
     },
     "execution_count": 283,
     "metadata": {},
     "output_type": "execute_result"
    }
   ],
   "source": [
    "z = np.abs(stats.zscore(res[\"Ranking\"]))\n",
    "res[\"Ranking\"][(z > 2)]"
   ]
  },
  {
   "cell_type": "code",
   "execution_count": 286,
   "metadata": {},
   "outputs": [
    {
     "data": {
      "text/plain": [
       "7     1668\n",
       "26    1837\n",
       "Name: Ranking in 2020, dtype: int32"
      ]
     },
     "execution_count": 286,
     "metadata": {},
     "output_type": "execute_result"
    }
   ],
   "source": [
    "z = np.abs(stats.zscore(res[\"Ranking in 2020\"]))\n",
    "res[\"Ranking in 2020\"][(z > 2)]"
   ]
  },
  {
   "cell_type": "code",
   "execution_count": 669,
   "metadata": {},
   "outputs": [
    {
     "data": {
      "text/html": [
       "<div>\n",
       "<style scoped>\n",
       "    .dataframe tbody tr th:only-of-type {\n",
       "        vertical-align: middle;\n",
       "    }\n",
       "\n",
       "    .dataframe tbody tr th {\n",
       "        vertical-align: top;\n",
       "    }\n",
       "\n",
       "    .dataframe thead th {\n",
       "        text-align: right;\n",
       "    }\n",
       "</style>\n",
       "<table border=\"1\" class=\"dataframe\">\n",
       "  <thead>\n",
       "    <tr style=\"text-align: right;\">\n",
       "      <th></th>\n",
       "      <th>Name</th>\n",
       "      <th>Ranking All</th>\n",
       "      <th>Ranking in 2020</th>\n",
       "      <th>Nationality</th>\n",
       "      <th>Position</th>\n",
       "      <th>Birthdate</th>\n",
       "      <th>Height</th>\n",
       "      <th>Weight</th>\n",
       "      <th>Spike</th>\n",
       "      <th>Block</th>\n",
       "      <th>Dominant hand</th>\n",
       "      <th>Age</th>\n",
       "      <th>Ranking 2019</th>\n",
       "      <th>Points</th>\n",
       "    </tr>\n",
       "  </thead>\n",
       "  <tbody>\n",
       "    <tr>\n",
       "      <td>7</td>\n",
       "      <td>Mayu Ishikawa</td>\n",
       "      <td>1601</td>\n",
       "      <td>1668</td>\n",
       "      <td>Japan</td>\n",
       "      <td>Outside Hitter</td>\n",
       "      <td>2000-05-14</td>\n",
       "      <td>173</td>\n",
       "      <td>65</td>\n",
       "      <td>300</td>\n",
       "      <td>290</td>\n",
       "      <td>Right</td>\n",
       "      <td>20</td>\n",
       "      <td>8</td>\n",
       "      <td>553.25</td>\n",
       "    </tr>\n",
       "    <tr>\n",
       "      <td>17</td>\n",
       "      <td>Mayany Souza</td>\n",
       "      <td>1211</td>\n",
       "      <td>257</td>\n",
       "      <td>Brazil</td>\n",
       "      <td>Middle-blocker</td>\n",
       "      <td>1996-11-24</td>\n",
       "      <td>185</td>\n",
       "      <td>62</td>\n",
       "      <td>293</td>\n",
       "      <td>282</td>\n",
       "      <td>Right</td>\n",
       "      <td>23</td>\n",
       "      <td>18</td>\n",
       "      <td>405.50</td>\n",
       "    </tr>\n",
       "    <tr>\n",
       "      <td>26</td>\n",
       "      <td>Samantha Bricio</td>\n",
       "      <td>598</td>\n",
       "      <td>1837</td>\n",
       "      <td>Mexico</td>\n",
       "      <td>Outside Hitter</td>\n",
       "      <td>1994-11-22</td>\n",
       "      <td>188</td>\n",
       "      <td>58</td>\n",
       "      <td>302</td>\n",
       "      <td>283</td>\n",
       "      <td>Right</td>\n",
       "      <td>25</td>\n",
       "      <td>27</td>\n",
       "      <td>360.00</td>\n",
       "    </tr>\n",
       "  </tbody>\n",
       "</table>\n",
       "</div>"
      ],
      "text/plain": [
       "               Name  Ranking All  Ranking in 2020 Nationality        Position  \\\n",
       "7     Mayu Ishikawa         1601             1668       Japan  Outside Hitter   \n",
       "17     Mayany Souza         1211              257      Brazil  Middle-blocker   \n",
       "26  Samantha Bricio          598             1837      Mexico  Outside Hitter   \n",
       "\n",
       "    Birthdate  Height  Weight  Spike  Block Dominant hand  Age  Ranking 2019  \\\n",
       "7  2000-05-14     173      65    300    290         Right   20             8   \n",
       "17 1996-11-24     185      62    293    282         Right   23            18   \n",
       "26 1994-11-22     188      58    302    283         Right   25            27   \n",
       "\n",
       "    Points  \n",
       "7   553.25  \n",
       "17  405.50  \n",
       "26  360.00  "
      ]
     },
     "execution_count": 669,
     "metadata": {},
     "output_type": "execute_result"
    }
   ],
   "source": [
    "#iskikawa :)))\n",
    "res.loc[[7,17,26],:]"
   ]
  },
  {
   "cell_type": "code",
   "execution_count": 670,
   "metadata": {},
   "outputs": [
    {
     "data": {
      "image/png": "[encoded data removed]",
      "text/plain": [
       "<Figure size 432x288 with 1 Axes>"
      ]
     },
     "metadata": {
      "needs_background": "light"
     },
     "output_type": "display_data"
    }
   ],
   "source": [
    "sns.countplot(res[\"Nationality\"], order = res[\"Nationality\"].value_counts().index)\n",
    "plt.xticks(rotation=90)\n",
    "plt.show()"
   ]
  },
  {
   "cell_type": "markdown",
   "metadata": {},
   "source": [
    "### Adding new information"
   ]
  },
  {
   "cell_type": "code",
   "execution_count": 751,
   "metadata": {},
   "outputs": [],
   "source": [
    "url = \"https://www.the-sports.org/volleyball-fivb-world-ranking-women-s3-c335-l0.html\"\n",
    "html = requests.get(url)\n",
    "# Parse the html content\n",
    "soup = BeautifulSoup(html.content, \"html.parser\")  \n"
   ]
  },
  {
   "cell_type": "code",
   "execution_count": 752,
   "metadata": {},
   "outputs": [],
   "source": [
    "table = soup.find(\"table\", {\"class\" : \"table-style-2\"})\n",
    "table;"
   ]
  },
  {
   "cell_type": "code",
   "execution_count": 753,
   "metadata": {},
   "outputs": [
    {
     "data": {
      "text/plain": [
       "30"
      ]
     },
     "execution_count": 753,
     "metadata": {},
     "output_type": "execute_result"
    }
   ],
   "source": [
    "len(points)"
   ]
  },
  {
   "cell_type": "code",
   "execution_count": 754,
   "metadata": {},
   "outputs": [],
   "source": [
    "links = table.find_all('a')\n",
    "links;"
   ]
  },
  {
   "cell_type": "code",
   "execution_count": 756,
   "metadata": {},
   "outputs": [],
   "source": [
    "country=[]\n",
    "for link in links:\n",
    "    country.append(link.get(\"title\"))\n",
    "country;"
   ]
  },
  {
   "cell_type": "code",
   "execution_count": 757,
   "metadata": {},
   "outputs": [],
   "source": [
    "points = []\n",
    "for i in range(len(country)):\n",
    "    points.append(table.find_all(\"td\")[3*i+2].string)\n",
    "points;"
   ]
  },
  {
   "cell_type": "code",
   "execution_count": 758,
   "metadata": {},
   "outputs": [],
   "source": [
    "country_points = pd.DataFrame(country)\n",
    "country_points[\"Points\"]= points\n",
    "country_points.columns = [\"Country\", \"Country Point\"]\n",
    "country_points;"
   ]
  },
  {
   "cell_type": "code",
   "execution_count": 759,
   "metadata": {},
   "outputs": [
    {
     "data": {
      "text/html": [
       "<div>\n",
       "<style scoped>\n",
       "    .dataframe tbody tr th:only-of-type {\n",
       "        vertical-align: middle;\n",
       "    }\n",
       "\n",
       "    .dataframe tbody tr th {\n",
       "        vertical-align: top;\n",
       "    }\n",
       "\n",
       "    .dataframe thead th {\n",
       "        text-align: right;\n",
       "    }\n",
       "</style>\n",
       "<table border=\"1\" class=\"dataframe\">\n",
       "  <thead>\n",
       "    <tr style=\"text-align: right;\">\n",
       "      <th></th>\n",
       "      <th>Name</th>\n",
       "      <th>Ranking All</th>\n",
       "      <th>Ranking in 2020</th>\n",
       "      <th>Nationality</th>\n",
       "      <th>Position</th>\n",
       "      <th>Birthdate</th>\n",
       "      <th>Height</th>\n",
       "      <th>Weight</th>\n",
       "      <th>Spike</th>\n",
       "      <th>Block</th>\n",
       "      <th>Dominant hand</th>\n",
       "      <th>Age</th>\n",
       "      <th>Ranking 2019</th>\n",
       "      <th>Points</th>\n",
       "      <th>Country</th>\n",
       "      <th>Country Point</th>\n",
       "    </tr>\n",
       "  </thead>\n",
       "  <tbody>\n",
       "    <tr>\n",
       "      <td>0</td>\n",
       "      <td>Ting Zhu</td>\n",
       "      <td>3</td>\n",
       "      <td>23</td>\n",
       "      <td>China</td>\n",
       "      <td>Outside Hitter</td>\n",
       "      <td>1994-11-29</td>\n",
       "      <td>198</td>\n",
       "      <td>78</td>\n",
       "      <td>327</td>\n",
       "      <td>305</td>\n",
       "      <td>Right</td>\n",
       "      <td>25</td>\n",
       "      <td>1</td>\n",
       "      <td>1190.0</td>\n",
       "      <td>China</td>\n",
       "      <td>320</td>\n",
       "    </tr>\n",
       "    <tr>\n",
       "      <td>1</td>\n",
       "      <td>Macris Carneiro</td>\n",
       "      <td>176</td>\n",
       "      <td>19</td>\n",
       "      <td>Brazil</td>\n",
       "      <td>Setter</td>\n",
       "      <td>1989-03-03</td>\n",
       "      <td>178</td>\n",
       "      <td>68</td>\n",
       "      <td>292</td>\n",
       "      <td>285</td>\n",
       "      <td>null</td>\n",
       "      <td>31</td>\n",
       "      <td>2</td>\n",
       "      <td>833.0</td>\n",
       "      <td>Brazil</td>\n",
       "      <td>220</td>\n",
       "    </tr>\n",
       "    <tr>\n",
       "      <td>2</td>\n",
       "      <td>Gabriela Guimarães</td>\n",
       "      <td>31</td>\n",
       "      <td>13</td>\n",
       "      <td>Brazil</td>\n",
       "      <td>Outside Hitter</td>\n",
       "      <td>1994-05-19</td>\n",
       "      <td>180</td>\n",
       "      <td>65</td>\n",
       "      <td>305</td>\n",
       "      <td>289</td>\n",
       "      <td>Right</td>\n",
       "      <td>25</td>\n",
       "      <td>3</td>\n",
       "      <td>788.0</td>\n",
       "      <td>Brazil</td>\n",
       "      <td>220</td>\n",
       "    </tr>\n",
       "    <tr>\n",
       "      <td>3</td>\n",
       "      <td>Tijana Bošković</td>\n",
       "      <td>28</td>\n",
       "      <td>3</td>\n",
       "      <td>Serbia</td>\n",
       "      <td>Opposite</td>\n",
       "      <td>1997-03-08</td>\n",
       "      <td>194</td>\n",
       "      <td>84</td>\n",
       "      <td>329</td>\n",
       "      <td>310</td>\n",
       "      <td>Left</td>\n",
       "      <td>23</td>\n",
       "      <td>4</td>\n",
       "      <td>630.5</td>\n",
       "      <td>Serbia</td>\n",
       "      <td>252</td>\n",
       "    </tr>\n",
       "    <tr>\n",
       "      <td>4</td>\n",
       "      <td>Paola Egonu</td>\n",
       "      <td>134</td>\n",
       "      <td>2</td>\n",
       "      <td>Italy</td>\n",
       "      <td>Opposite</td>\n",
       "      <td>1998-12-18</td>\n",
       "      <td>190</td>\n",
       "      <td>70</td>\n",
       "      <td>336</td>\n",
       "      <td>315</td>\n",
       "      <td>Right</td>\n",
       "      <td>21</td>\n",
       "      <td>5</td>\n",
       "      <td>597.0</td>\n",
       "      <td>Italy</td>\n",
       "      <td>165</td>\n",
       "    </tr>\n",
       "  </tbody>\n",
       "</table>\n",
       "</div>"
      ],
      "text/plain": [
       "                 Name  Ranking All  Ranking in 2020 Nationality  \\\n",
       "0            Ting Zhu            3               23       China   \n",
       "1     Macris Carneiro          176               19      Brazil   \n",
       "2  Gabriela Guimarães           31               13      Brazil   \n",
       "3     Tijana Bošković           28                3      Serbia   \n",
       "4         Paola Egonu          134                2       Italy   \n",
       "\n",
       "         Position  Birthdate  Height  Weight  Spike  Block Dominant hand  Age  \\\n",
       "0  Outside Hitter 1994-11-29     198      78    327    305         Right   25   \n",
       "1          Setter 1989-03-03     178      68    292    285          null   31   \n",
       "2  Outside Hitter 1994-05-19     180      65    305    289         Right   25   \n",
       "3        Opposite 1997-03-08     194      84    329    310          Left   23   \n",
       "4        Opposite 1998-12-18     190      70    336    315         Right   21   \n",
       "\n",
       "   Ranking 2019  Points Country Country Point  \n",
       "0             1  1190.0   China           320  \n",
       "1             2   833.0  Brazil           220  \n",
       "2             3   788.0  Brazil           220  \n",
       "3             4   630.5  Serbia           252  \n",
       "4             5   597.0   Italy           165  "
      ]
     },
     "execution_count": 759,
     "metadata": {},
     "output_type": "execute_result"
    }
   ],
   "source": [
    "res2= pd.merge(left=res, right=country_points,how= \"left\", left_on='Nationality', right_on='Country')\n",
    "res2.head()"
   ]
  },
  {
   "cell_type": "code",
   "execution_count": 760,
   "metadata": {},
   "outputs": [],
   "source": [
    "res2= res2.drop(\"Country\", axis=1)"
   ]
  },
  {
   "cell_type": "code",
   "execution_count": 761,
   "metadata": {},
   "outputs": [
    {
     "name": "stdout",
     "output_type": "stream",
     "text": [
      "<class 'pandas.core.frame.DataFrame'>\n",
      "Int64Index: 30 entries, 0 to 29\n",
      "Data columns (total 15 columns):\n",
      "Name               30 non-null object\n",
      "Ranking All        30 non-null int32\n",
      "Ranking in 2020    30 non-null int32\n",
      "Nationality        30 non-null object\n",
      "Position           30 non-null object\n",
      "Birthdate          30 non-null datetime64[ns]\n",
      "Height             30 non-null int32\n",
      "Weight             30 non-null int32\n",
      "Spike              30 non-null int32\n",
      "Block              30 non-null int32\n",
      "Dominant hand      30 non-null object\n",
      "Age                30 non-null int64\n",
      "Ranking 2019       30 non-null int64\n",
      "Points             30 non-null float64\n",
      "Country Point      23 non-null float64\n",
      "dtypes: datetime64[ns](1), float64(2), int32(6), int64(2), object(4)\n",
      "memory usage: 3.0+ KB\n"
     ]
    }
   ],
   "source": [
    "res2[\"Country Point\"]= res2[\"Country Point\"].astype(float)\n",
    "res2.info()"
   ]
  },
  {
   "cell_type": "code",
   "execution_count": 764,
   "metadata": {},
   "outputs": [
    {
     "data": {
      "text/plain": [
       "0"
      ]
     },
     "execution_count": 764,
     "metadata": {},
     "output_type": "execute_result"
    }
   ],
   "source": [
    "res2[\"Country Point\"] = res2[\"Country Point\"].fillna(res2[\"Country Point\"].mean())\n",
    "res2[\"Country Point\"].isnull().sum()"
   ]
  },
  {
   "cell_type": "code",
   "execution_count": 765,
   "metadata": {},
   "outputs": [
    {
     "data": {
      "text/html": [
       "<div>\n",
       "<style scoped>\n",
       "    .dataframe tbody tr th:only-of-type {\n",
       "        vertical-align: middle;\n",
       "    }\n",
       "\n",
       "    .dataframe tbody tr th {\n",
       "        vertical-align: top;\n",
       "    }\n",
       "\n",
       "    .dataframe thead th {\n",
       "        text-align: right;\n",
       "    }\n",
       "</style>\n",
       "<table border=\"1\" class=\"dataframe\">\n",
       "  <thead>\n",
       "    <tr style=\"text-align: right;\">\n",
       "      <th></th>\n",
       "      <th>Ranking All</th>\n",
       "      <th>Ranking in 2020</th>\n",
       "      <th>Height</th>\n",
       "      <th>Weight</th>\n",
       "      <th>Spike</th>\n",
       "      <th>Block</th>\n",
       "      <th>Age</th>\n",
       "      <th>Ranking 2019</th>\n",
       "      <th>Points</th>\n",
       "      <th>Country Point</th>\n",
       "    </tr>\n",
       "  </thead>\n",
       "  <tbody>\n",
       "    <tr>\n",
       "      <td>Ranking All</td>\n",
       "      <td>1.000000</td>\n",
       "      <td>0.490108</td>\n",
       "      <td>-0.164936</td>\n",
       "      <td>-0.304236</td>\n",
       "      <td>-0.223509</td>\n",
       "      <td>-0.224581</td>\n",
       "      <td>-0.546665</td>\n",
       "      <td>0.096672</td>\n",
       "      <td>-0.221724</td>\n",
       "      <td>-0.031952</td>\n",
       "    </tr>\n",
       "    <tr>\n",
       "      <td>Ranking in 2020</td>\n",
       "      <td>0.490108</td>\n",
       "      <td>1.000000</td>\n",
       "      <td>-0.112572</td>\n",
       "      <td>-0.205910</td>\n",
       "      <td>-0.103460</td>\n",
       "      <td>-0.135307</td>\n",
       "      <td>-0.113801</td>\n",
       "      <td>0.233354</td>\n",
       "      <td>-0.207775</td>\n",
       "      <td>-0.168535</td>\n",
       "    </tr>\n",
       "    <tr>\n",
       "      <td>Height</td>\n",
       "      <td>-0.164936</td>\n",
       "      <td>-0.112572</td>\n",
       "      <td>1.000000</td>\n",
       "      <td>0.770036</td>\n",
       "      <td>0.834334</td>\n",
       "      <td>0.799681</td>\n",
       "      <td>-0.293090</td>\n",
       "      <td>0.068945</td>\n",
       "      <td>0.035551</td>\n",
       "      <td>0.057136</td>\n",
       "    </tr>\n",
       "    <tr>\n",
       "      <td>Weight</td>\n",
       "      <td>-0.304236</td>\n",
       "      <td>-0.205910</td>\n",
       "      <td>0.770036</td>\n",
       "      <td>1.000000</td>\n",
       "      <td>0.731490</td>\n",
       "      <td>0.755632</td>\n",
       "      <td>-0.109657</td>\n",
       "      <td>-0.046298</td>\n",
       "      <td>0.072589</td>\n",
       "      <td>0.296759</td>\n",
       "    </tr>\n",
       "    <tr>\n",
       "      <td>Spike</td>\n",
       "      <td>-0.223509</td>\n",
       "      <td>-0.103460</td>\n",
       "      <td>0.834334</td>\n",
       "      <td>0.731490</td>\n",
       "      <td>1.000000</td>\n",
       "      <td>0.946269</td>\n",
       "      <td>-0.295521</td>\n",
       "      <td>-0.137786</td>\n",
       "      <td>0.202715</td>\n",
       "      <td>0.126060</td>\n",
       "    </tr>\n",
       "    <tr>\n",
       "      <td>Block</td>\n",
       "      <td>-0.224581</td>\n",
       "      <td>-0.135307</td>\n",
       "      <td>0.799681</td>\n",
       "      <td>0.755632</td>\n",
       "      <td>0.946269</td>\n",
       "      <td>1.000000</td>\n",
       "      <td>-0.234066</td>\n",
       "      <td>-0.080707</td>\n",
       "      <td>0.111772</td>\n",
       "      <td>0.082529</td>\n",
       "    </tr>\n",
       "    <tr>\n",
       "      <td>Age</td>\n",
       "      <td>-0.546665</td>\n",
       "      <td>-0.113801</td>\n",
       "      <td>-0.293090</td>\n",
       "      <td>-0.109657</td>\n",
       "      <td>-0.295521</td>\n",
       "      <td>-0.234066</td>\n",
       "      <td>1.000000</td>\n",
       "      <td>0.225176</td>\n",
       "      <td>-0.135613</td>\n",
       "      <td>0.066722</td>\n",
       "    </tr>\n",
       "    <tr>\n",
       "      <td>Ranking 2019</td>\n",
       "      <td>0.096672</td>\n",
       "      <td>0.233354</td>\n",
       "      <td>0.068945</td>\n",
       "      <td>-0.046298</td>\n",
       "      <td>-0.137786</td>\n",
       "      <td>-0.080707</td>\n",
       "      <td>0.225176</td>\n",
       "      <td>1.000000</td>\n",
       "      <td>-0.806901</td>\n",
       "      <td>-0.158068</td>\n",
       "    </tr>\n",
       "    <tr>\n",
       "      <td>Points</td>\n",
       "      <td>-0.221724</td>\n",
       "      <td>-0.207775</td>\n",
       "      <td>0.035551</td>\n",
       "      <td>0.072589</td>\n",
       "      <td>0.202715</td>\n",
       "      <td>0.111772</td>\n",
       "      <td>-0.135613</td>\n",
       "      <td>-0.806901</td>\n",
       "      <td>1.000000</td>\n",
       "      <td>0.314754</td>\n",
       "    </tr>\n",
       "    <tr>\n",
       "      <td>Country Point</td>\n",
       "      <td>-0.031952</td>\n",
       "      <td>-0.168535</td>\n",
       "      <td>0.057136</td>\n",
       "      <td>0.296759</td>\n",
       "      <td>0.126060</td>\n",
       "      <td>0.082529</td>\n",
       "      <td>0.066722</td>\n",
       "      <td>-0.158068</td>\n",
       "      <td>0.314754</td>\n",
       "      <td>1.000000</td>\n",
       "    </tr>\n",
       "  </tbody>\n",
       "</table>\n",
       "</div>"
      ],
      "text/plain": [
       "                 Ranking All  Ranking in 2020    Height    Weight     Spike  \\\n",
       "Ranking All         1.000000         0.490108 -0.164936 -0.304236 -0.223509   \n",
       "Ranking in 2020     0.490108         1.000000 -0.112572 -0.205910 -0.103460   \n",
       "Height             -0.164936        -0.112572  1.000000  0.770036  0.834334   \n",
       "Weight             -0.304236        -0.205910  0.770036  1.000000  0.731490   \n",
       "Spike              -0.223509        -0.103460  0.834334  0.731490  1.000000   \n",
       "Block              -0.224581        -0.135307  0.799681  0.755632  0.946269   \n",
       "Age                -0.546665        -0.113801 -0.293090 -0.109657 -0.295521   \n",
       "Ranking 2019        0.096672         0.233354  0.068945 -0.046298 -0.137786   \n",
       "Points             -0.221724        -0.207775  0.035551  0.072589  0.202715   \n",
       "Country Point      -0.031952        -0.168535  0.057136  0.296759  0.126060   \n",
       "\n",
       "                    Block       Age  Ranking 2019    Points  Country Point  \n",
       "Ranking All     -0.224581 -0.546665      0.096672 -0.221724      -0.031952  \n",
       "Ranking in 2020 -0.135307 -0.113801      0.233354 -0.207775      -0.168535  \n",
       "Height           0.799681 -0.293090      0.068945  0.035551       0.057136  \n",
       "Weight           0.755632 -0.109657     -0.046298  0.072589       0.296759  \n",
       "Spike            0.946269 -0.295521     -0.137786  0.202715       0.126060  \n",
       "Block            1.000000 -0.234066     -0.080707  0.111772       0.082529  \n",
       "Age             -0.234066  1.000000      0.225176 -0.135613       0.066722  \n",
       "Ranking 2019    -0.080707  0.225176      1.000000 -0.806901      -0.158068  \n",
       "Points           0.111772 -0.135613     -0.806901  1.000000       0.314754  \n",
       "Country Point    0.082529  0.066722     -0.158068  0.314754       1.000000  "
      ]
     },
     "execution_count": 765,
     "metadata": {},
     "output_type": "execute_result"
    }
   ],
   "source": [
    "res2.corr()"
   ]
  },
  {
   "cell_type": "code",
   "execution_count": 766,
   "metadata": {},
   "outputs": [
    {
     "data": {
      "text/plain": [
       "Spike         Block              0.946269\n",
       "Height        Spike              0.834334\n",
       "Ranking 2019  Points             0.806901\n",
       "Height        Block              0.799681\n",
       "              Weight             0.770036\n",
       "Weight        Block              0.755632\n",
       "              Spike              0.731490\n",
       "Ranking All   Age                0.546665\n",
       "              Ranking in 2020    0.490108\n",
       "Points        Country Point      0.314754\n",
       "dtype: float64"
      ]
     },
     "execution_count": 766,
     "metadata": {},
     "output_type": "execute_result"
    }
   ],
   "source": [
    "c = res2.corr().abs()\n",
    "\n",
    "sol = (c.where(np.triu(np.ones(c.shape), k=1).astype(np.bool))\n",
    "                 .stack()\n",
    "                 .sort_values(ascending=False))\n",
    "sol[:10]"
   ]
  },
  {
   "cell_type": "code",
   "execution_count": 767,
   "metadata": {},
   "outputs": [],
   "source": [
    "res2[\"Clubs\"] = np.zeros((30))"
   ]
  },
  {
   "cell_type": "code",
   "execution_count": 768,
   "metadata": {},
   "outputs": [
    {
     "name": "stderr",
     "output_type": "stream",
     "text": [
      "C:\\Users\\beyzanur.arslan\\AppData\\Local\\Continuum\\anaconda3\\lib\\site-packages\\ipykernel_launcher.py:10: SettingWithCopyWarning: \n",
      "A value is trying to be set on a copy of a slice from a DataFrame\n",
      "\n",
      "See the caveats in the documentation: http://pandas.pydata.org/pandas-docs/stable/user_guide/indexing.html#returning-a-view-versus-a-copy\n",
      "  # Remove the CWD from sys.path while we load stuff.\n"
     ]
    }
   ],
   "source": [
    "for i in range(res2.shape[0]):\n",
    "    div1= []\n",
    "    html_content = requests.get(pl[i]).text\n",
    "    soup = BeautifulSoup(html_content, \"lxml\")\n",
    "\n",
    "    s = soup.find_all(\"a\", {\"class\":\"arenaName marginBottom5 tooltip_item\"})\n",
    "    for ss in s: \n",
    "        div1.append(ss.get_text())\n",
    "\n",
    "    res2[\"Clubs\"][i] = div1   "
   ]
  },
  {
   "cell_type": "code",
   "execution_count": 769,
   "metadata": {},
   "outputs": [
    {
     "data": {
      "text/html": [
       "<div>\n",
       "<style scoped>\n",
       "    .dataframe tbody tr th:only-of-type {\n",
       "        vertical-align: middle;\n",
       "    }\n",
       "\n",
       "    .dataframe tbody tr th {\n",
       "        vertical-align: top;\n",
       "    }\n",
       "\n",
       "    .dataframe thead th {\n",
       "        text-align: right;\n",
       "    }\n",
       "</style>\n",
       "<table border=\"1\" class=\"dataframe\">\n",
       "  <thead>\n",
       "    <tr style=\"text-align: right;\">\n",
       "      <th></th>\n",
       "      <th>Name</th>\n",
       "      <th>Ranking All</th>\n",
       "      <th>Ranking in 2020</th>\n",
       "      <th>Nationality</th>\n",
       "      <th>Position</th>\n",
       "      <th>Birthdate</th>\n",
       "      <th>Height</th>\n",
       "      <th>Weight</th>\n",
       "      <th>Spike</th>\n",
       "      <th>Block</th>\n",
       "      <th>Dominant hand</th>\n",
       "      <th>Age</th>\n",
       "      <th>Ranking 2019</th>\n",
       "      <th>Points</th>\n",
       "      <th>Country Point</th>\n",
       "      <th>Clubs</th>\n",
       "    </tr>\n",
       "  </thead>\n",
       "  <tbody>\n",
       "    <tr>\n",
       "      <td>0</td>\n",
       "      <td>Ting Zhu</td>\n",
       "      <td>3</td>\n",
       "      <td>23</td>\n",
       "      <td>China</td>\n",
       "      <td>Outside Hitter</td>\n",
       "      <td>1994-11-29</td>\n",
       "      <td>198</td>\n",
       "      <td>78</td>\n",
       "      <td>327</td>\n",
       "      <td>305</td>\n",
       "      <td>Right</td>\n",
       "      <td>25</td>\n",
       "      <td>1</td>\n",
       "      <td>1190.0</td>\n",
       "      <td>320.0</td>\n",
       "      <td>[Tianjin, Vakıfbank, Henan Volleyball, Guangdo...</td>\n",
       "    </tr>\n",
       "    <tr>\n",
       "      <td>1</td>\n",
       "      <td>Macris Carneiro</td>\n",
       "      <td>176</td>\n",
       "      <td>19</td>\n",
       "      <td>Brazil</td>\n",
       "      <td>Setter</td>\n",
       "      <td>1989-03-03</td>\n",
       "      <td>178</td>\n",
       "      <td>68</td>\n",
       "      <td>292</td>\n",
       "      <td>285</td>\n",
       "      <td>null</td>\n",
       "      <td>31</td>\n",
       "      <td>2</td>\n",
       "      <td>833.0</td>\n",
       "      <td>220.0</td>\n",
       "      <td>[Itambé/Minas, Brasília Vôlei, EC Pinheiros, S...</td>\n",
       "    </tr>\n",
       "    <tr>\n",
       "      <td>2</td>\n",
       "      <td>Gabriela Guimarães</td>\n",
       "      <td>31</td>\n",
       "      <td>13</td>\n",
       "      <td>Brazil</td>\n",
       "      <td>Outside Hitter</td>\n",
       "      <td>1994-05-19</td>\n",
       "      <td>180</td>\n",
       "      <td>65</td>\n",
       "      <td>305</td>\n",
       "      <td>289</td>\n",
       "      <td>Right</td>\n",
       "      <td>25</td>\n",
       "      <td>3</td>\n",
       "      <td>788.0</td>\n",
       "      <td>220.0</td>\n",
       "      <td>[Vakıfbank, Itambé/Minas, Sesc-RJ, Mackenzie EC]</td>\n",
       "    </tr>\n",
       "    <tr>\n",
       "      <td>3</td>\n",
       "      <td>Tijana Bošković</td>\n",
       "      <td>28</td>\n",
       "      <td>3</td>\n",
       "      <td>Serbia</td>\n",
       "      <td>Opposite</td>\n",
       "      <td>1997-03-08</td>\n",
       "      <td>194</td>\n",
       "      <td>84</td>\n",
       "      <td>329</td>\n",
       "      <td>310</td>\n",
       "      <td>Left</td>\n",
       "      <td>23</td>\n",
       "      <td>4</td>\n",
       "      <td>630.5</td>\n",
       "      <td>252.0</td>\n",
       "      <td>[Eczacibaşi, OK Vizura]</td>\n",
       "    </tr>\n",
       "    <tr>\n",
       "      <td>4</td>\n",
       "      <td>Paola Egonu</td>\n",
       "      <td>134</td>\n",
       "      <td>2</td>\n",
       "      <td>Italy</td>\n",
       "      <td>Opposite</td>\n",
       "      <td>1998-12-18</td>\n",
       "      <td>190</td>\n",
       "      <td>70</td>\n",
       "      <td>336</td>\n",
       "      <td>315</td>\n",
       "      <td>Right</td>\n",
       "      <td>21</td>\n",
       "      <td>5</td>\n",
       "      <td>597.0</td>\n",
       "      <td>165.0</td>\n",
       "      <td>[Imoco Volley Conegliano, Igor Gorgonzola Nova...</td>\n",
       "    </tr>\n",
       "  </tbody>\n",
       "</table>\n",
       "</div>"
      ],
      "text/plain": [
       "                 Name  Ranking All  Ranking in 2020 Nationality  \\\n",
       "0            Ting Zhu            3               23       China   \n",
       "1     Macris Carneiro          176               19      Brazil   \n",
       "2  Gabriela Guimarães           31               13      Brazil   \n",
       "3     Tijana Bošković           28                3      Serbia   \n",
       "4         Paola Egonu          134                2       Italy   \n",
       "\n",
       "         Position  Birthdate  Height  Weight  Spike  Block Dominant hand  Age  \\\n",
       "0  Outside Hitter 1994-11-29     198      78    327    305         Right   25   \n",
       "1          Setter 1989-03-03     178      68    292    285          null   31   \n",
       "2  Outside Hitter 1994-05-19     180      65    305    289         Right   25   \n",
       "3        Opposite 1997-03-08     194      84    329    310          Left   23   \n",
       "4        Opposite 1998-12-18     190      70    336    315         Right   21   \n",
       "\n",
       "   Ranking 2019  Points  Country Point  \\\n",
       "0             1  1190.0          320.0   \n",
       "1             2   833.0          220.0   \n",
       "2             3   788.0          220.0   \n",
       "3             4   630.5          252.0   \n",
       "4             5   597.0          165.0   \n",
       "\n",
       "                                               Clubs  \n",
       "0  [Tianjin, Vakıfbank, Henan Volleyball, Guangdo...  \n",
       "1  [Itambé/Minas, Brasília Vôlei, EC Pinheiros, S...  \n",
       "2   [Vakıfbank, Itambé/Minas, Sesc-RJ, Mackenzie EC]  \n",
       "3                            [Eczacibaşi, OK Vizura]  \n",
       "4  [Imoco Volley Conegliano, Igor Gorgonzola Nova...  "
      ]
     },
     "execution_count": 769,
     "metadata": {},
     "output_type": "execute_result"
    }
   ],
   "source": [
    "res2.head()"
   ]
  },
  {
   "cell_type": "code",
   "execution_count": 770,
   "metadata": {},
   "outputs": [],
   "source": [
    "all_clubs = []\n",
    "for i in range(res2.shape[0]):\n",
    "    for j in range(len(res2[\"Clubs\"][i])):\n",
    "        all_clubs.append(res2[\"Clubs\"][i][j])\n",
    "all_clubs;"
   ]
  },
  {
   "cell_type": "code",
   "execution_count": 693,
   "metadata": {},
   "outputs": [
    {
     "data": {
      "text/html": [
       "<div>\n",
       "<style scoped>\n",
       "    .dataframe tbody tr th:only-of-type {\n",
       "        vertical-align: middle;\n",
       "    }\n",
       "\n",
       "    .dataframe tbody tr th {\n",
       "        vertical-align: top;\n",
       "    }\n",
       "\n",
       "    .dataframe thead th {\n",
       "        text-align: right;\n",
       "    }\n",
       "</style>\n",
       "<table border=\"1\" class=\"dataframe\">\n",
       "  <thead>\n",
       "    <tr style=\"text-align: right;\">\n",
       "      <th></th>\n",
       "      <th>Club</th>\n",
       "      <th>Frequency</th>\n",
       "    </tr>\n",
       "  </thead>\n",
       "  <tbody>\n",
       "    <tr>\n",
       "      <td>0</td>\n",
       "      <td>#VolleyWrocław</td>\n",
       "      <td>2</td>\n",
       "    </tr>\n",
       "    <tr>\n",
       "      <td>1</td>\n",
       "      <td>AD Brusque</td>\n",
       "      <td>1</td>\n",
       "    </tr>\n",
       "    <tr>\n",
       "      <td>2</td>\n",
       "      <td>AGEE/Vôlei Joseense</td>\n",
       "      <td>1</td>\n",
       "    </tr>\n",
       "    <tr>\n",
       "      <td>3</td>\n",
       "      <td>APIV/Piracicaba</td>\n",
       "      <td>1</td>\n",
       "    </tr>\n",
       "    <tr>\n",
       "      <td>4</td>\n",
       "      <td>AtlasGlobal Yeşilyurt</td>\n",
       "      <td>1</td>\n",
       "    </tr>\n",
       "  </tbody>\n",
       "</table>\n",
       "</div>"
      ],
      "text/plain": [
       "                    Club  Frequency\n",
       "0         #VolleyWrocław          2\n",
       "1             AD Brusque          1\n",
       "2    AGEE/Vôlei Joseense          1\n",
       "3        APIV/Piracicaba          1\n",
       "4  AtlasGlobal Yeşilyurt          1"
      ]
     },
     "execution_count": 693,
     "metadata": {},
     "output_type": "execute_result"
    }
   ],
   "source": [
    "club_data = pd.DataFrame(np.zeros((len(values), 2)), columns = [\"Club\", \"Frequency\"])\n",
    "club_data[\"Club\"] = unique\n",
    "club_data[\"Frequency\"] = counts\n",
    "club_data.head()"
   ]
  },
  {
   "cell_type": "code",
   "execution_count": 694,
   "metadata": {},
   "outputs": [
    {
     "data": {
      "text/html": [
       "<div>\n",
       "<style scoped>\n",
       "    .dataframe tbody tr th:only-of-type {\n",
       "        vertical-align: middle;\n",
       "    }\n",
       "\n",
       "    .dataframe tbody tr th {\n",
       "        vertical-align: top;\n",
       "    }\n",
       "\n",
       "    .dataframe thead th {\n",
       "        text-align: right;\n",
       "    }\n",
       "</style>\n",
       "<table border=\"1\" class=\"dataframe\">\n",
       "  <thead>\n",
       "    <tr style=\"text-align: right;\">\n",
       "      <th></th>\n",
       "      <th>Club</th>\n",
       "      <th>Frequency</th>\n",
       "    </tr>\n",
       "  </thead>\n",
       "  <tbody>\n",
       "    <tr>\n",
       "      <td>41</td>\n",
       "      <td>Itambé/Minas</td>\n",
       "      <td>6</td>\n",
       "    </tr>\n",
       "    <tr>\n",
       "      <td>28</td>\n",
       "      <td>Eczacibaşi</td>\n",
       "      <td>5</td>\n",
       "    </tr>\n",
       "    <tr>\n",
       "      <td>39</td>\n",
       "      <td>Imoco Volley Conegliano</td>\n",
       "      <td>5</td>\n",
       "    </tr>\n",
       "    <tr>\n",
       "      <td>84</td>\n",
       "      <td>Vakıfbank</td>\n",
       "      <td>5</td>\n",
       "    </tr>\n",
       "    <tr>\n",
       "      <td>23</td>\n",
       "      <td>Dinamo Kazan</td>\n",
       "      <td>4</td>\n",
       "    </tr>\n",
       "    <tr>\n",
       "      <td>29</td>\n",
       "      <td>Fenerbahçe</td>\n",
       "      <td>4</td>\n",
       "    </tr>\n",
       "    <tr>\n",
       "      <td>68</td>\n",
       "      <td>Sesc-RJ</td>\n",
       "      <td>4</td>\n",
       "    </tr>\n",
       "    <tr>\n",
       "      <td>6</td>\n",
       "      <td>Beijing BAIC Motors</td>\n",
       "      <td>3</td>\n",
       "    </tr>\n",
       "    <tr>\n",
       "      <td>25</td>\n",
       "      <td>Dynamo Moscow</td>\n",
       "      <td>3</td>\n",
       "    </tr>\n",
       "    <tr>\n",
       "      <td>27</td>\n",
       "      <td>EC Pinheiros</td>\n",
       "      <td>3</td>\n",
       "    </tr>\n",
       "    <tr>\n",
       "      <td>47</td>\n",
       "      <td>Mackenzie EC</td>\n",
       "      <td>3</td>\n",
       "    </tr>\n",
       "    <tr>\n",
       "      <td>49</td>\n",
       "      <td>Mirador VC</td>\n",
       "      <td>3</td>\n",
       "    </tr>\n",
       "    <tr>\n",
       "      <td>58</td>\n",
       "      <td>Osasco/Audax</td>\n",
       "      <td>3</td>\n",
       "    </tr>\n",
       "    <tr>\n",
       "      <td>74</td>\n",
       "      <td>São Cristóvão/São Caetano</td>\n",
       "      <td>3</td>\n",
       "    </tr>\n",
       "    <tr>\n",
       "      <td>77</td>\n",
       "      <td>Tianjin</td>\n",
       "      <td>3</td>\n",
       "    </tr>\n",
       "    <tr>\n",
       "      <td>78</td>\n",
       "      <td>Toray Arrows</td>\n",
       "      <td>3</td>\n",
       "    </tr>\n",
       "  </tbody>\n",
       "</table>\n",
       "</div>"
      ],
      "text/plain": [
       "                         Club  Frequency\n",
       "41               Itambé/Minas          6\n",
       "28                 Eczacibaşi          5\n",
       "39    Imoco Volley Conegliano          5\n",
       "84                  Vakıfbank          5\n",
       "23               Dinamo Kazan          4\n",
       "29                 Fenerbahçe          4\n",
       "68                    Sesc-RJ          4\n",
       "6         Beijing BAIC Motors          3\n",
       "25              Dynamo Moscow          3\n",
       "27               EC Pinheiros          3\n",
       "47               Mackenzie EC          3\n",
       "49                 Mirador VC          3\n",
       "58               Osasco/Audax          3\n",
       "74  São Cristóvão/São Caetano          3\n",
       "77                    Tianjin          3\n",
       "78               Toray Arrows          3"
      ]
     },
     "execution_count": 694,
     "metadata": {},
     "output_type": "execute_result"
    }
   ],
   "source": [
    "sorted_clubs = club_data[club_data[\"Frequency\"]>2].sort_values(by= \"Frequency\", ascending= False)\n",
    "sorted_clubs"
   ]
  },
  {
   "cell_type": "code",
   "execution_count": 695,
   "metadata": {},
   "outputs": [
    {
     "data": {
      "image/png": "[encoded data removed]",
      "text/plain": [
       "<Figure size 432x288 with 1 Axes>"
      ]
     },
     "metadata": {
      "needs_background": "light"
     },
     "output_type": "display_data"
    }
   ],
   "source": [
    "sns.barplot(\"Club\", \"Frequency\", data= sorted_clubs)\n",
    "plt.xticks(rotation=90)\n",
    "plt.show()"
   ]
  },
  {
   "cell_type": "markdown",
   "metadata": {},
   "source": [
    "#### At the end, age and height are not the main factors in determining the total score. Position, Nationality and the Clubs distributions can show us there is a dominance for some positions, countries and clubs to have better rankings."
   ]
  }
 ],
 "metadata": {
  "kernelspec": {
   "display_name": "Python 3",
   "language": "python",
   "name": "python3"
  },
  "language_info": {
   "codemirror_mode": {
    "name": "ipython",
    "version": 3
   },
   "file_extension": ".py",
   "mimetype": "text/x-python",
   "name": "python",
   "nbconvert_exporter": "python",
   "pygments_lexer": "ipython3",
   "version": "3.7.4"
  }
 },
 "nbformat": 4,
 "nbformat_minor": 2
}
